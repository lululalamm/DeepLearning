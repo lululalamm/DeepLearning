{
 "cells": [
  {
   "cell_type": "code",
   "execution_count": 1,
   "id": "edf4e433-38f3-4e42-9290-f0d543294255",
   "metadata": {},
   "outputs": [],
   "source": [
    "import os\n",
    "import numpy as np\n",
    "import h5py\n",
    "import pandas as pd"
   ]
  },
  {
   "cell_type": "code",
   "execution_count": 3,
   "id": "7d00daaf-ce53-40bd-bf06-21a09120adaa",
   "metadata": {},
   "outputs": [],
   "source": [
    "h5path = \"facemask_val.h5\""
   ]
  },
  {
   "cell_type": "code",
   "execution_count": 4,
   "id": "4a2dfe08-4b05-4406-8919-2ab54448b2d3",
   "metadata": {},
   "outputs": [
    {
     "name": "stdout",
     "output_type": "stream",
     "text": [
      "List of arrays in this file: \n",
      " <KeysViewHDF5 ['id', 'image', 'target']>\n"
     ]
    }
   ],
   "source": [
    "with h5py.File(h5path,'r') as hf:\n",
    "    print('List of arrays in this file: \\n', hf.keys())"
   ]
  }
 ],
 "metadata": {
  "kernelspec": {
   "display_name": "Python 3 (ipykernel)",
   "language": "python",
   "name": "python3"
  },
  "language_info": {
   "codemirror_mode": {
    "name": "ipython",
    "version": 3
   },
   "file_extension": ".py",
   "mimetype": "text/x-python",
   "name": "python",
   "nbconvert_exporter": "python",
   "pygments_lexer": "ipython3",
   "version": "3.8.10"
  }
 },
 "nbformat": 4,
 "nbformat_minor": 5
}
