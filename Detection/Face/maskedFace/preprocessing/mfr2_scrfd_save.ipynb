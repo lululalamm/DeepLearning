{
 "cells": [
  {
   "cell_type": "code",
   "execution_count": 1,
   "id": "96f2129c-e888-420f-bc06-4947837b80fc",
   "metadata": {},
   "outputs": [],
   "source": [
    "import os \n",
    "import numpy as np\n",
    "from PIL import Image\n",
    "import torch\n",
    "import cv2\n",
    "from tqdm import tqdm\n",
    "\n",
    "import random\n",
    "import matplotlib.pyplot as plt\n",
    "\n",
    "import math"
   ]
  },
  {
   "cell_type": "code",
   "execution_count": 2,
   "id": "4e14c8b6-74fb-4402-945d-4f093b4934e1",
   "metadata": {
    "tags": []
   },
   "outputs": [
    {
     "name": "stderr",
     "output_type": "stream",
     "text": [
      "/usr/local/lib/python3.8/dist-packages/pkg_resources/__init__.py:123: PkgResourcesDeprecationWarning: 0.23ubuntu1 is an invalid version and will not be supported in a future release\n",
      "  warnings.warn(\n",
      "/usr/local/lib/python3.8/dist-packages/pkg_resources/_vendor/packaging/version.py:111: DeprecationWarning: Creating a LegacyVersion has been deprecated and will be removed in the next major release\n",
      "  warnings.warn(\n",
      "/usr/local/lib/python3.8/dist-packages/pycuda/compyte/dtypes.py:120: DeprecationWarning: `np.bool` is a deprecated alias for the builtin `bool`. To silence this warning, use `bool` by itself. Doing this will not modify any behavior and is safe. If you specifically wanted the numpy scalar type, use `np.bool_` here.\n",
      "Deprecated in NumPy 1.20; for more details and guidance: https://numpy.org/devdocs/release/1.20.0-notes.html#deprecations\n",
      "  reg.get_or_register_dtype(\"bool\", np.bool)\n"
     ]
    }
   ],
   "source": [
    "from totalface.model_zoo.model_common import load_openvino\n",
    "from totalface.model_zoo.get_models import get_detection_model\n",
    "from totalface.face.get_result import get_detection\n",
    "from totalface.data import read_image\n",
    "from totalface.utils.util_warp import face_align\n",
    "from totalface.utils.util_common import draw_result,draw_result_land,draw_result_sim"
   ]
  },
  {
   "cell_type": "code",
   "execution_count": 3,
   "id": "4264cdf1-4f96-4077-be0b-56f56599f05f",
   "metadata": {},
   "outputs": [],
   "source": [
    "from totalface.data.constant import LMARK_REF_ARC\n",
    "\n",
    "def get_align(image,land5,LMARK_REF_ARC):\n",
    "    aligned = face_align(image,LMARK_REF_ARC,land5,112)\n",
    "    return aligned"
   ]
  },
  {
   "cell_type": "code",
   "execution_count": 4,
   "id": "0adf5958-ceec-4979-a714-b436e9852e2c",
   "metadata": {},
   "outputs": [
    {
     "name": "stdout",
     "output_type": "stream",
     "text": [
      "scrfd openvino loaded\n"
     ]
    }
   ],
   "source": [
    "# Load model\n",
    "\n",
    "detection_name = \"scrfd\"\n",
    "\n",
    "detection_path = [\"scrfd_10g_bnkps_quantINT8.xml\",\n",
    "                 \"scrfd_10g_bnkps_quantINT8.bin\"]\n",
    "\n",
    "# Set parameters\n",
    "detection_thresh = 0.5\n",
    "detection_height_min=0 \n",
    "\n",
    "# if load multiple trt, load_multi=True, default False\n",
    "detection_model = get_detection_model(detection_name,detection_path,load_multi=False)"
   ]
  },
  {
   "cell_type": "code",
   "execution_count": 5,
   "id": "43b6955f-1b68-4f76-9670-aa87ff8b0b40",
   "metadata": {},
   "outputs": [],
   "source": [
    "base = \"rmfd_mfr2/mfr2_2/\"\n",
    "save_base = \"rmfd_mfr2/mfr2_2_scrfd_aligned/\"\n",
    "\n",
    "if not os.path.exists(save_base):\n",
    "    os.mkdir(save_base)"
   ]
  },
  {
   "cell_type": "code",
   "execution_count": 6,
   "id": "9512bcc2-0189-4879-ba0a-941a2daf0df3",
   "metadata": {},
   "outputs": [
    {
     "name": "stderr",
     "output_type": "stream",
     "text": [
      "  6%|▌         | 3/49 [00:00<00:06,  7.33it/s]"
     ]
    },
    {
     "name": "stdout",
     "output_type": "stream",
     "text": [
      "faces: 2\n"
     ]
    },
    {
     "name": "stderr",
     "output_type": "stream",
     "text": [
      " 67%|██████▋   | 33/49 [00:04<00:01,  9.86it/s]"
     ]
    },
    {
     "name": "stdout",
     "output_type": "stream",
     "text": [
      "faces: 0\n"
     ]
    },
    {
     "name": "stderr",
     "output_type": "stream",
     "text": [
      "100%|██████████| 49/49 [00:11<00:00,  4.28it/s]\n"
     ]
    }
   ],
   "source": [
    "for idname in tqdm(os.listdir(base)):\n",
    "    if \".DS\" in idname: continue\n",
    "    save_sub = os.path.join(save_base,idname)\n",
    "    if not os.path.exists(save_sub):\n",
    "        os.mkdir(save_sub)\n",
    "    \n",
    "    for img_name in os.listdir(os.path.join(base,idname)):\n",
    "        if \".DS\" in img_name: continue\n",
    "\n",
    "        img_path = os.path.join(base,idname,img_name)\n",
    "        \n",
    "        img = read_image(img_path)\n",
    "        faces = get_detection(detection_name,detection_model,img,thresh=detection_thresh,height_min=detection_height_min,input_size=(640,640))\n",
    "        \n",
    "        if len(faces)<1 or len(faces)>1:\n",
    "            print(\"faces:\",len(faces))\n",
    "            continue\n",
    "            \n",
    "        face = faces[0]\n",
    "        aligned_face = get_align(img,face.land5,LMARK_REF_ARC)\n",
    "        if idname=='ArifAlvi':\n",
    "            if 'unmask' in img_name:\n",
    "                img_name = img_name.replace(\"unmask\",\"mask\")\n",
    "            else:\n",
    "                img_name = img_name.replace(\"mask\",\"unmask\")\n",
    "                \n",
    "        save_path = os.path.join(save_sub,img_name)\n",
    "        cv2.imwrite(save_path,cv2.cvtColor(aligned_face,cv2.COLOR_RGB2BGR))\n",
    "        "
   ]
  },
  {
   "cell_type": "code",
   "execution_count": null,
   "id": "2fee6c27-f7e5-4368-bdd8-51a623f4512f",
   "metadata": {},
   "outputs": [],
   "source": []
  }
 ],
 "metadata": {
  "kernelspec": {
   "display_name": "gekim",
   "language": "python",
   "name": "gekim"
  },
  "language_info": {
   "codemirror_mode": {
    "name": "ipython",
    "version": 3
   },
   "file_extension": ".py",
   "mimetype": "text/x-python",
   "name": "python",
   "nbconvert_exporter": "python",
   "pygments_lexer": "ipython3",
   "version": "3.8.10"
  }
 },
 "nbformat": 4,
 "nbformat_minor": 5
}
