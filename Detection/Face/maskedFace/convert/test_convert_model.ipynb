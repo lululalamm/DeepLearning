{
 "cells": [
  {
   "cell_type": "code",
   "execution_count": 1,
   "metadata": {},
   "outputs": [],
   "source": [
    "import os\n",
    "import numpy as np\n",
    "from PIL import Image\n",
    "import cv2\n",
    "import matplotlib.pyplot as plt\n",
    "import torch"
   ]
  },
  {
   "cell_type": "code",
   "execution_count": 2,
   "metadata": {},
   "outputs": [],
   "source": [
    "from totalface.model_zoo.model_common import load_tensorRT,load_openvino"
   ]
  },
  {
   "cell_type": "code",
   "execution_count": 3,
   "metadata": {},
   "outputs": [],
   "source": [
    "def normalization(rgb_img,mean_list=[0.485, 0.456, 0.406],std_list=[0.229, 0.224, 0.225]):\n",
    "    MEAN = 255 * np.array(mean_list)\n",
    "    STD = 255 * np.array(std_list)\n",
    "    rgb_img = rgb_img.transpose(-1, 0, 1)\n",
    "    norm_img = (rgb_img - MEAN[:, None, None]) / STD[:, None, None]\n",
    "    \n",
    "    return norm_img\n",
    "\n",
    "def image_preprocess(img_path,resize=224,mean_list=[0.485, 0.456, 0.406],std_list=[0.229, 0.224, 0.225]):\n",
    "    img = cv2.cvtColor(cv2.imread(img_path),cv2.COLOR_BGR2RGB)\n",
    "    img = cv2.resize(img, (resize, resize))\n",
    "    \n",
    "    img = normalization(img,mean_list,std_list)\n",
    "    \n",
    "    img = torch.from_numpy(img).unsqueeze(0).float()\n",
    "    return img"
   ]
  },
  {
   "cell_type": "code",
   "execution_count": 6,
   "metadata": {},
   "outputs": [],
   "source": [
    "def softmax(x):\n",
    "    f_x = np.exp(x) / np.sum(np.exp(x))\n",
    "    return f_x"
   ]
  },
  {
   "cell_type": "code",
   "execution_count": 22,
   "metadata": {},
   "outputs": [],
   "source": [
    "test_path = \"rmfd_mfr2/mfr2_2_scrfd_aligned/JoeBiden/JoeBiden_0001_mask.png\"\n",
    "test_path = \"test_sample.jpg\"\n",
    "test_path = \"/test_sample.png\"\n",
    "#test_path = \"test_sample1.png\""
   ]
  },
  {
   "cell_type": "code",
   "execution_count": 23,
   "metadata": {},
   "outputs": [],
   "source": [
    "img = image_preprocess(test_path,resize=112)"
   ]
  },
  {
   "cell_type": "code",
   "execution_count": null,
   "metadata": {},
   "outputs": [],
   "source": []
  },
  {
   "cell_type": "code",
   "execution_count": 24,
   "metadata": {},
   "outputs": [],
   "source": [
    "# tensorRT"
   ]
  },
  {
   "cell_type": "code",
   "execution_count": 25,
   "metadata": {},
   "outputs": [],
   "source": [
    "model_path = \"FaceMask_mbf2.v7.trt\"\n",
    "model = load_tensorRT.TrtModel(model_path,torch_image=True,not_norm=True)"
   ]
  },
  {
   "cell_type": "code",
   "execution_count": 26,
   "metadata": {},
   "outputs": [],
   "source": [
    "output = model(img)[0]\n",
    "output = softmax(output)[0]"
   ]
  },
  {
   "cell_type": "code",
   "execution_count": 27,
   "metadata": {},
   "outputs": [
    {
     "data": {
      "text/plain": [
       "array([0.7238758 , 0.27612415], dtype=float32)"
      ]
     },
     "execution_count": 27,
     "metadata": {},
     "output_type": "execute_result"
    }
   ],
   "source": [
    "output"
   ]
  },
  {
   "cell_type": "code",
   "execution_count": 15,
   "metadata": {},
   "outputs": [],
   "source": [
    "num_iter = 10000\n",
    "from tqdm import tqdm\n",
    "import time"
   ]
  },
  {
   "cell_type": "code",
   "execution_count": 17,
   "metadata": {},
   "outputs": [
    {
     "name": "stderr",
     "output_type": "stream",
     "text": [
      "100%|██████████| 10000/10000 [00:06<00:00, 1603.64it/s]"
     ]
    },
    {
     "name": "stdout",
     "output_type": "stream",
     "text": [
      "Model: trt\n",
      "Model path: /data/shared/Face/Models/classification/mbf2.v7.trt\n",
      "Time(batch): 0.6102895498275757 ms\n",
      "\n"
     ]
    },
    {
     "name": "stderr",
     "output_type": "stream",
     "text": [
      "\n"
     ]
    }
   ],
   "source": [
    "all_time=0\n",
    "for i in tqdm(range(num_iter)):\n",
    "    with torch.no_grad():\n",
    "        s = time.time()\n",
    "        output = model(img)[0]\n",
    "        e = time.time()\n",
    "\n",
    "    all_time+=((e-s)*1000)\n",
    "\n",
    "speed = (all_time/num_iter)\n",
    "print(\"Model: trt\")\n",
    "print(\"Model path: {}\".format(model_path))\n",
    "print(\"Time(batch): {} ms\\n\".format(speed))"
   ]
  },
  {
   "cell_type": "code",
   "execution_count": 11,
   "metadata": {},
   "outputs": [
    {
     "data": {
      "text/plain": [
       "'7.2.1.6'"
      ]
     },
     "execution_count": 11,
     "metadata": {},
     "output_type": "execute_result"
    }
   ],
   "source": [
    "import tensorrt\n",
    "tensorrt.__version__"
   ]
  },
  {
   "cell_type": "code",
   "execution_count": null,
   "metadata": {},
   "outputs": [],
   "source": []
  },
  {
   "cell_type": "code",
   "execution_count": 25,
   "metadata": {},
   "outputs": [],
   "source": [
    "# openvino"
   ]
  },
  {
   "cell_type": "code",
   "execution_count": 7,
   "metadata": {},
   "outputs": [],
   "source": [
    "model_path = [\"FaceMask_mbf2_quantINT8.xml\",\n",
    "             \"FaceMask_mbf2_quantINT8.bin\"]\n",
    "model = load_openvino.Openvino(model_path,not_norm=True,torch_image=True)"
   ]
  },
  {
   "cell_type": "code",
   "execution_count": 8,
   "metadata": {},
   "outputs": [],
   "source": [
    "output = model(img)[0]\n",
    "output = softmax(output)[0]"
   ]
  },
  {
   "cell_type": "code",
   "execution_count": 9,
   "metadata": {},
   "outputs": [
    {
     "data": {
      "text/plain": [
       "array([0.7245528, 0.2754472], dtype=float32)"
      ]
     },
     "execution_count": 9,
     "metadata": {},
     "output_type": "execute_result"
    }
   ],
   "source": [
    "output"
   ]
  },
  {
   "cell_type": "code",
   "execution_count": 42,
   "metadata": {},
   "outputs": [
    {
     "data": {
      "text/plain": [
       "tensor([[[[ 0.7591,  0.9303,  0.6563,  ...,  0.9988,  1.1015,  1.1015],\n",
       "          [ 0.9303,  0.5536,  0.4337,  ...,  1.0331,  1.1187,  1.1187],\n",
       "          [ 0.2111,  0.1597,  0.5193,  ...,  1.0844,  1.0844,  1.1187],\n",
       "          ...,\n",
       "          [-0.0116,  0.1768,  0.1597,  ...,  0.4508,  0.5536,  0.8618],\n",
       "          [-0.2684, -0.3369, -0.1314,  ...,  0.1083,  0.1768,  0.2111],\n",
       "          [-0.3883, -0.5424, -0.5253,  ...,  0.1083,  0.2282,  0.1768]],\n",
       "\n",
       "         [[ 1.3431,  1.4482,  1.1331,  ...,  0.9755,  1.0980,  1.0980],\n",
       "          [ 1.5182,  1.0630,  0.8704,  ...,  1.0280,  1.1155,  1.1155],\n",
       "          [ 0.8004,  0.6429,  0.9580,  ...,  1.0805,  1.0805,  1.1155],\n",
       "          ...,\n",
       "          [ 0.1877,  0.4328,  0.4153,  ...,  0.6604,  0.7654,  1.0280],\n",
       "          [-0.0399, -0.0924,  0.1176,  ...,  0.2927,  0.3102,  0.3102],\n",
       "          [-0.1625, -0.3550, -0.3550,  ...,  0.2402,  0.3452,  0.2577]],\n",
       "\n",
       "         [[ 1.6988,  1.8383,  1.4374,  ...,  1.0714,  1.1934,  1.1934],\n",
       "          [ 1.8731,  1.4025,  1.1759,  ...,  1.1237,  1.2108,  1.2457],\n",
       "          [ 1.1411,  0.9494,  1.1934,  ...,  1.1934,  1.2108,  1.2457],\n",
       "          ...,\n",
       "          [ 0.5485,  0.7576,  0.7402,  ...,  0.3916,  0.4614,  0.7751],\n",
       "          [ 0.3219,  0.2696,  0.4614,  ...,  0.1825,  0.1825,  0.2348],\n",
       "          [ 0.2522,  0.0779,  0.1128,  ...,  0.3045,  0.3742,  0.3045]]]])"
      ]
     },
     "execution_count": 42,
     "metadata": {},
     "output_type": "execute_result"
    }
   ],
   "source": [
    "img"
   ]
  },
  {
   "cell_type": "code",
   "execution_count": 25,
   "metadata": {},
   "outputs": [
    {
     "name": "stderr",
     "output_type": "stream",
     "text": [
      "100%|██████████| 10000/10000 [00:22<00:00, 450.17it/s]"
     ]
    },
    {
     "name": "stdout",
     "output_type": "stream",
     "text": [
      "Model: vino\n",
      "Model path: ['/data/shared/Face/Models/classification/mbf2_quantINT8.xml', '/data/shared/Face/Models/classification/mbf2_quantINT8.bin']\n",
      "Time(batch): 2.1988298177719114 ms\n",
      "\n"
     ]
    },
    {
     "name": "stderr",
     "output_type": "stream",
     "text": [
      "\n"
     ]
    }
   ],
   "source": [
    "all_time=0\n",
    "for i in tqdm(range(num_iter)):\n",
    "    with torch.no_grad():\n",
    "        s = time.time()\n",
    "        output = model(img)[0]\n",
    "        e = time.time()\n",
    "\n",
    "    all_time+=((e-s)*1000)\n",
    "\n",
    "speed = (all_time/num_iter)\n",
    "print(\"Model: vino\")\n",
    "print(\"Model path: {}\".format(model_path))\n",
    "print(\"Time(batch): {} ms\\n\".format(speed))"
   ]
  },
  {
   "cell_type": "code",
   "execution_count": 10,
   "metadata": {},
   "outputs": [
    {
     "data": {
      "text/plain": [
       "'2022.2.0-7713-af16ea1d79a-releases/2022/2'"
      ]
     },
     "execution_count": 10,
     "metadata": {},
     "output_type": "execute_result"
    }
   ],
   "source": [
    "from openvino.inference_engine import get_version\n",
    "get_version()"
   ]
  },
  {
   "cell_type": "code",
   "execution_count": null,
   "metadata": {},
   "outputs": [],
   "source": []
  },
  {
   "cell_type": "code",
   "execution_count": 31,
   "metadata": {},
   "outputs": [],
   "source": [
    "import os\n",
    "import numpy as np\n",
    "import cv2\n",
    "import torch\n",
    "from torchvision import transforms"
   ]
  },
  {
   "cell_type": "code",
   "execution_count": 27,
   "metadata": {},
   "outputs": [],
   "source": [
    "img_path = \"rmfd_mfr2/mfr2_2_scrfd_aligned/JoeBiden/JoeBiden_0001_mask.png\""
   ]
  },
  {
   "cell_type": "code",
   "execution_count": 29,
   "metadata": {},
   "outputs": [],
   "source": [
    "def normalization(rgb_img,mean_list=[0.485, 0.456, 0.406],std_list=[0.229, 0.224, 0.225]):\n",
    "    MEAN = 255 * np.array(mean_list)\n",
    "    STD = 255 * np.array(std_list)\n",
    "    rgb_img = rgb_img.transpose(-1, 0, 1)\n",
    "    norm_img = (rgb_img - MEAN[:, None, None]) / STD[:, None, None]\n",
    "    \n",
    "    return norm_img\n",
    "\n",
    "def image_preprocess(img_path,resize=224,mean_list=[0.485, 0.456, 0.406],std_list=[0.229, 0.224, 0.225]):\n",
    "    img = cv2.cvtColor(cv2.imread(img_path),cv2.COLOR_BGR2RGB)\n",
    "    img = cv2.resize(img, (resize, resize))\n",
    "    \n",
    "    img = normalization(img,mean_list,std_list)\n",
    "    \n",
    "    img = torch.from_numpy(img).unsqueeze(0).float()\n",
    "    return img"
   ]
  },
  {
   "cell_type": "code",
   "execution_count": 34,
   "metadata": {},
   "outputs": [],
   "source": [
    "def image_transform(img_path,input_size):\n",
    "    img = cv2.cvtColor(cv2.imread(img_path),cv2.COLOR_BGR2RGB)\n",
    "    transform = transforms.Compose([\n",
    "                            transforms.ToPILImage(),\n",
    "                            transforms.Resize(input_size),\n",
    "#                             transforms.RandomHorizontalFlip(),\n",
    "#                             transforms.RandomRotation(10),\n",
    "#                             transforms.RandomAffine(degrees=0,translate=None,scale=None,shear=20),\n",
    "                            transforms.ToTensor(),\n",
    "                            transforms.Normalize(mean=[0.485, 0.456, 0.406], std=[0.229, 0.224, 0.225]),\n",
    "\n",
    "                        ])\n",
    "    return transform(img)"
   ]
  },
  {
   "cell_type": "code",
   "execution_count": 30,
   "metadata": {},
   "outputs": [],
   "source": [
    "img1 = image_preprocess(img_path,resize=112)"
   ]
  },
  {
   "cell_type": "code",
   "execution_count": 36,
   "metadata": {},
   "outputs": [],
   "source": [
    "img2 = image_transform(img_path,112)"
   ]
  },
  {
   "cell_type": "code",
   "execution_count": 37,
   "metadata": {},
   "outputs": [
    {
     "data": {
      "text/plain": [
       "tensor([[[[ 0.0741,  0.0741,  0.0912,  ...,  0.9303,  0.9646,  0.9988],\n",
       "          [ 0.0741,  0.0741,  0.0741,  ...,  0.8961,  0.8789,  0.9817],\n",
       "          [ 0.0569,  0.0569,  0.0569,  ...,  0.9988,  0.8961,  0.8789],\n",
       "          ...,\n",
       "          [ 0.5364,  0.5193,  0.4508,  ...,  0.0569,  0.0912, -0.0629],\n",
       "          [ 0.5364,  0.5193,  0.4337,  ...,  0.0056,  0.0569, -0.3027],\n",
       "          [ 0.5364,  0.5193,  0.4337,  ..., -0.0629, -0.1143, -0.4568]],\n",
       "\n",
       "         [[-0.8277, -0.8277, -0.8102,  ...,  0.1877,  0.2752,  0.3627],\n",
       "          [-0.8277, -0.8277, -0.8277,  ...,  0.1352,  0.1702,  0.3277],\n",
       "          [-0.8452, -0.8452, -0.8452,  ...,  0.2577,  0.2052,  0.2577],\n",
       "          ...,\n",
       "          [-0.3725, -0.3901, -0.4426,  ..., -0.0399, -0.1625, -0.5476],\n",
       "          [-0.3725, -0.3901, -0.4426,  ..., -0.1975, -0.2675, -0.8627],\n",
       "          [-0.3725, -0.3901, -0.4426,  ..., -0.3375, -0.5651, -1.1254]],\n",
       "\n",
       "         [[-1.3687, -1.3687, -1.3513,  ..., -0.0092,  0.0953,  0.2173],\n",
       "          [-1.3687, -1.3687, -1.3687,  ..., -0.0267,  0.0082,  0.1825],\n",
       "          [-1.3861, -1.3861, -1.3861,  ...,  0.0779,  0.0431,  0.1128],\n",
       "          ...,\n",
       "          [-1.0898, -1.0898, -1.1247,  ...,  0.1128, -0.0615, -0.5321],\n",
       "          [-1.0898, -1.0898, -1.1247,  ..., -0.0615, -0.2184, -0.8981],\n",
       "          [-1.0898, -1.0898, -1.1247,  ..., -0.2184, -0.5321, -1.1770]]]])"
      ]
     },
     "execution_count": 37,
     "metadata": {},
     "output_type": "execute_result"
    }
   ],
   "source": [
    "img1"
   ]
  },
  {
   "cell_type": "code",
   "execution_count": 38,
   "metadata": {},
   "outputs": [
    {
     "data": {
      "text/plain": [
       "tensor([[[ 0.0741,  0.0741,  0.0912,  ...,  0.9303,  0.9646,  0.9988],\n",
       "         [ 0.0741,  0.0741,  0.0741,  ...,  0.8961,  0.8789,  0.9817],\n",
       "         [ 0.0569,  0.0569,  0.0569,  ...,  0.9988,  0.8961,  0.8789],\n",
       "         ...,\n",
       "         [ 0.5364,  0.5193,  0.4508,  ...,  0.0569,  0.0912, -0.0629],\n",
       "         [ 0.5364,  0.5193,  0.4337,  ...,  0.0056,  0.0569, -0.3027],\n",
       "         [ 0.5364,  0.5193,  0.4337,  ..., -0.0629, -0.1143, -0.4568]],\n",
       "\n",
       "        [[-0.8277, -0.8277, -0.8102,  ...,  0.1877,  0.2752,  0.3627],\n",
       "         [-0.8277, -0.8277, -0.8277,  ...,  0.1352,  0.1702,  0.3277],\n",
       "         [-0.8452, -0.8452, -0.8452,  ...,  0.2577,  0.2052,  0.2577],\n",
       "         ...,\n",
       "         [-0.3725, -0.3901, -0.4426,  ..., -0.0399, -0.1625, -0.5476],\n",
       "         [-0.3725, -0.3901, -0.4426,  ..., -0.1975, -0.2675, -0.8627],\n",
       "         [-0.3725, -0.3901, -0.4426,  ..., -0.3375, -0.5651, -1.1253]],\n",
       "\n",
       "        [[-1.3687, -1.3687, -1.3513,  ..., -0.0092,  0.0953,  0.2173],\n",
       "         [-1.3687, -1.3687, -1.3687,  ..., -0.0267,  0.0082,  0.1825],\n",
       "         [-1.3861, -1.3861, -1.3861,  ...,  0.0779,  0.0431,  0.1128],\n",
       "         ...,\n",
       "         [-1.0898, -1.0898, -1.1247,  ...,  0.1128, -0.0615, -0.5321],\n",
       "         [-1.0898, -1.0898, -1.1247,  ..., -0.0615, -0.2184, -0.8981],\n",
       "         [-1.0898, -1.0898, -1.1247,  ..., -0.2184, -0.5321, -1.1770]]])"
      ]
     },
     "execution_count": 38,
     "metadata": {},
     "output_type": "execute_result"
    }
   ],
   "source": [
    "img2"
   ]
  },
  {
   "cell_type": "code",
   "execution_count": null,
   "metadata": {},
   "outputs": [],
   "source": []
  },
  {
   "cell_type": "code",
   "execution_count": 39,
   "metadata": {},
   "outputs": [],
   "source": [
    "# dataset count"
   ]
  },
  {
   "cell_type": "code",
   "execution_count": 40,
   "metadata": {},
   "outputs": [],
   "source": [
    "import pandas as pd"
   ]
  },
  {
   "cell_type": "code",
   "execution_count": 64,
   "metadata": {},
   "outputs": [],
   "source": [
    "path_format = \"FaceMask/filtering/saved_{}.csv\""
   ]
  },
  {
   "cell_type": "code",
   "execution_count": 65,
   "metadata": {},
   "outputs": [],
   "source": [
    "tvt = ['train','val','test']"
   ]
  },
  {
   "cell_type": "code",
   "execution_count": 66,
   "metadata": {},
   "outputs": [
    {
     "name": "stdout",
     "output_type": "stream",
     "text": [
      "train: 120031 / val: 14832 / test: 14871\n",
      "train - unmask: 60031 / mask: 60000 || val - unmask: 7332 / mask: 7500 || test - unmask: 7371 / mask: 7500\n"
     ]
    }
   ],
   "source": [
    "ct=[]\n",
    "ct_dict={'train':[0,0],'val':[0,0],'test':[0,0]}\n",
    "for t in tvt:\n",
    "    df = pd.read_csv(path_format.format(t))\n",
    "    ct.append(len(df))\n",
    "    \n",
    "    for val in df.values:\n",
    "        mask_flag = val[-4]\n",
    "        if mask_flag:\n",
    "            ct_dict[t][1]+=1\n",
    "        else:\n",
    "            ct_dict[t][0]+=1\n",
    "print(\"train: {} / val: {} / test: {}\".format(ct[0],ct[1],ct[2]))\n",
    "print(\"train - unmask: {} / mask: {} || val - unmask: {} / mask: {} || test - unmask: {} / mask: {}\".format(ct_dict['train'][0],ct_dict['train'][1], \\\n",
    "                                                                                                         ct_dict['val'][0],ct_dict['val'][1], \\\n",
    "                                                                                                         ct_dict['test'][0],ct_dict['test'][1]))"
   ]
  },
  {
   "cell_type": "code",
   "execution_count": null,
   "metadata": {},
   "outputs": [],
   "source": []
  }
 ],
 "metadata": {
  "kernelspec": {
   "display_name": "Python 3",
   "language": "python",
   "name": "python3"
  },
  "language_info": {
   "codemirror_mode": {
    "name": "ipython",
    "version": 3
   },
   "file_extension": ".py",
   "mimetype": "text/x-python",
   "name": "python",
   "nbconvert_exporter": "python",
   "pygments_lexer": "ipython3",
   "version": "3.6.9"
  }
 },
 "nbformat": 4,
 "nbformat_minor": 4
}
