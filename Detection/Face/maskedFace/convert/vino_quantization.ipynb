{
 "cells": [
  {
   "cell_type": "code",
   "execution_count": 1,
   "metadata": {},
   "outputs": [],
   "source": [
    "import os\n",
    "import copy\n",
    "import numpy as np\n",
    "import cv2\n",
    "import h5py\n",
    "from openvino.tools.pot import Metric,DataLoader\n",
    "from openvino.tools.pot import IEEngine, load_model, save_model,compress_model_weights, create_pipeline"
   ]
  },
  {
   "cell_type": "code",
   "execution_count": 5,
   "metadata": {},
   "outputs": [],
   "source": [
    "path = \"FaceMask/filtering/\""
   ]
  },
  {
   "cell_type": "code",
   "execution_count": 3,
   "metadata": {},
   "outputs": [],
   "source": [
    "from torch.utils.data import DataLoader, Dataset\n",
    "from torchvision import transforms\n",
    "import torchvision\n",
    "import mxnet as mx\n",
    "import numbers\n",
    "import torch"
   ]
  },
  {
   "cell_type": "code",
   "execution_count": 4,
   "metadata": {},
   "outputs": [],
   "source": [
    "class MaskDatasetrec(Dataset):\n",
    "    def __init__(self,rec_path,tv,aug=False,input_size=112):\n",
    "        \n",
    "        self.input_size = input_size\n",
    "        \n",
    "        if aug and tv=='train':\n",
    "            self.transform = transforms.Compose([\n",
    "                        transforms.ToPILImage(),\n",
    "                        transforms.Resize(self.input_size),\n",
    "                        transforms.RandomHorizontalFlip(),\n",
    "                        transforms.RandomRotation(10),\n",
    "                        transforms.RandomAffine(degrees=0,translate=None,scale=None,shear=20),\n",
    "                        transforms.ToTensor(),\n",
    "                        transforms.Normalize(mean=[0.485, 0.456, 0.406], std=[0.229, 0.224, 0.225]),\n",
    "\n",
    "                    ])\n",
    "\n",
    "        else:\n",
    "            self.transform = transforms.Compose([\n",
    "                        transforms.ToPILImage(),\n",
    "                        transforms.Resize(self.input_size),\n",
    "                        transforms.RandomHorizontalFlip(),\n",
    "                        transforms.ToTensor(),\n",
    "                        transforms.Normalize(mean=[0.485, 0.456, 0.406], std=[0.229, 0.224, 0.225]),\n",
    "                    ])\n",
    "\n",
    "\n",
    "        path_rec = os.path.join(rec_path,\"{}.rec\".format(tv))\n",
    "        path_idx = os.path.join(rec_path,\"{}.idx\".format(tv))\n",
    "        self.imgrec = mx.recordio.MXIndexedRecordIO(path_idx, path_rec, 'r')\n",
    "\n",
    "        s = self.imgrec.read_idx(0)\n",
    "        header, _ = mx.recordio.unpack(s)\n",
    "        self.imgidx = np.array(list(self.imgrec.keys))\n",
    "\n",
    "        self.tv = tv\n",
    "\n",
    "\n",
    "    def __getitem__(self,index):\n",
    "\n",
    "        idx = self.imgidx[index]\n",
    "        s = self.imgrec.read_idx(idx)\n",
    "        header, img = mx.recordio.unpack(s)\n",
    "        label = header.label\n",
    "        \n",
    "        image = mx.image.imdecode(img).asnumpy() # rgb\n",
    "        target = int(label[0]) # label = [mask_lb, id_lb]\n",
    "\n",
    "        image = self.transform(image)\n",
    "\n",
    "        return image,None\n",
    "\n",
    "    def __len__(self):\n",
    "        return len(self.imgidx)\n"
   ]
  },
  {
   "cell_type": "code",
   "execution_count": 6,
   "metadata": {},
   "outputs": [],
   "source": [
    "data_loader = MaskDatasetrec(path,'train_id_balanced',True,112)"
   ]
  },
  {
   "cell_type": "code",
   "execution_count": 7,
   "metadata": {},
   "outputs": [],
   "source": [
    "q_params=[{\n",
    "    \"name\":\"DefaultQuantization\",\n",
    "    \"params\":{\n",
    "        \"target_device\":\"CPU\",\n",
    "        \"preset\":\"performance\",\n",
    "        \"stat_subset_size\":300},\n",
    "}]"
   ]
  },
  {
   "cell_type": "code",
   "execution_count": 8,
   "metadata": {},
   "outputs": [],
   "source": [
    "from openvino.tools.pot import IEEngine, load_model, save_model,compress_model_weights, create_pipeline"
   ]
  },
  {
   "cell_type": "code",
   "execution_count": 9,
   "metadata": {},
   "outputs": [],
   "source": [
    "model_config={\n",
    "    \"model\":\"classification/mbf2.xml\",\n",
    "    \"weights\":\"classification/mbf2.bin\"\n",
    "}"
   ]
  },
  {
   "cell_type": "code",
   "execution_count": 10,
   "metadata": {},
   "outputs": [],
   "source": [
    "engine_config={'device':'CPU',}"
   ]
  },
  {
   "cell_type": "code",
   "execution_count": 11,
   "metadata": {},
   "outputs": [],
   "source": [
    "# 1. model load\n",
    "model = load_model(model_config=model_config)"
   ]
  },
  {
   "cell_type": "code",
   "execution_count": 12,
   "metadata": {},
   "outputs": [],
   "source": [
    "# 2. engine initialize\n",
    "engine = IEEngine(config=engine_config, data_loader=data_loader)"
   ]
  },
  {
   "cell_type": "code",
   "execution_count": 13,
   "metadata": {},
   "outputs": [],
   "source": [
    "# 3. pipeline\n",
    "pipeline = create_pipeline(q_params,engine,)\n",
    "compressed_model = pipeline.run(model=model)"
   ]
  },
  {
   "cell_type": "code",
   "execution_count": 14,
   "metadata": {},
   "outputs": [],
   "source": [
    "# 4. (optional) .bin file size 를 줄이기 위해 model weight 를 compress\n",
    "compress_model_weights(compressed_model)"
   ]
  },
  {
   "cell_type": "code",
   "execution_count": 17,
   "metadata": {},
   "outputs": [],
   "source": [
    "# 5. save path/ model name 으로 ptq 한 model Save\n",
    "compressed_model_paths = save_model(\n",
    "    model=compressed_model,\n",
    "    save_path = \"./\",\n",
    "    model_name = \"mbf_quantINT8\",\n",
    ")"
   ]
  },
  {
   "cell_type": "code",
   "execution_count": null,
   "metadata": {},
   "outputs": [],
   "source": []
  }
 ],
 "metadata": {
  "kernelspec": {
   "display_name": "Python 3",
   "language": "python",
   "name": "python3"
  },
  "language_info": {
   "codemirror_mode": {
    "name": "ipython",
    "version": 3
   },
   "file_extension": ".py",
   "mimetype": "text/x-python",
   "name": "python",
   "nbconvert_exporter": "python",
   "pygments_lexer": "ipython3",
   "version": "3.6.9"
  }
 },
 "nbformat": 4,
 "nbformat_minor": 4
}
