{
 "cells": [
  {
   "cell_type": "code",
   "execution_count": 3,
   "id": "8498afc4-acb3-4e5c-8fcd-dcec0ecab61f",
   "metadata": {},
   "outputs": [],
   "source": [
    "import os\n",
    "import numpy as np\n",
    "import random"
   ]
  },
  {
   "cell_type": "code",
   "execution_count": 25,
   "id": "68fe72f9-19a6-4392-9d62-25c2a9bf72eb",
   "metadata": {},
   "outputs": [],
   "source": [
    "gt = []\n",
    "pred = []\n",
    "score = []"
   ]
  },
  {
   "cell_type": "code",
   "execution_count": 26,
   "id": "c098403b-bc50-4c25-b2f6-e471e3eeee74",
   "metadata": {},
   "outputs": [],
   "source": [
    "for i in range(1000):\n",
    "    gt.append(random.randint(0,1)) # 0 fake / 1 real\n",
    "    pred_rand = random.randint(0,1)\n",
    "    pred.append(pred_rand)\n",
    "    \n",
    "    while True:\n",
    "        score_rand = random.random()\n",
    "        if pred_rand==1 and score_rand>=0.5:\n",
    "            score.append(score_rand)\n",
    "            break\n",
    "        elif pred_rand==0 and score_rand<0.5:\n",
    "            score.append(score_rand)\n",
    "            break"
   ]
  },
  {
   "cell_type": "code",
   "execution_count": 31,
   "id": "3e280a77-915c-4f7d-aa9c-60151e8fc60c",
   "metadata": {},
   "outputs": [],
   "source": [
    "from sklearn.metrics import auc, roc_curve"
   ]
  },
  {
   "cell_type": "code",
   "execution_count": null,
   "id": "9b551a2b-b898-4361-b434-99112aae46e3",
   "metadata": {},
   "outputs": [],
   "source": []
  },
  {
   "cell_type": "code",
   "execution_count": 32,
   "id": "1ca47102-a7c8-4778-83c1-ad55707d0903",
   "metadata": {},
   "outputs": [],
   "source": [
    "gt = np.array(gt)\n",
    "pred = np.array(pred)"
   ]
  },
  {
   "cell_type": "code",
   "execution_count": 33,
   "id": "ce5c34fe-e4b0-4086-b9ea-5c5d54cd85fe",
   "metadata": {},
   "outputs": [],
   "source": [
    "tp = np.sum(np.logical_and(gt,pred))\n",
    "tn = np.sum(np.logical_and(np.logical_not(gt),np.logical_not(pred)))\n",
    "fp = np.sum(np.logical_and(np.logical_not(gt),pred))\n",
    "fn = np.sum(np.logical_and(gt,np.logical_not(pred)))\n",
    "\n",
    "tpr = float(tp) / float(tp + fn)\n",
    "fpr = float(fp) / float(fp + tn)\n",
    "apcer = float(fp)/float(fp+tn) # apcer fpr\n",
    "bpcer = float(fn)/float(fn+tp) # bpcer fnr\n",
    "\n",
    "acer = (apcer+bpcer)/2\n",
    "acc = float(tp + tn) / len(pred)"
   ]
  },
  {
   "cell_type": "code",
   "execution_count": 34,
   "id": "6cb305c7-f3f1-4ef6-a2b6-d7e4d6efb751",
   "metadata": {},
   "outputs": [
    {
     "name": "stdout",
     "output_type": "stream",
     "text": [
      "0.4899193548387097 0.4861111111111111\n",
      "0.4861111111111111 0.5100806451612904\n",
      "0.4980958781362007 0.502\n"
     ]
    }
   ],
   "source": [
    "print(tpr,fpr)\n",
    "print(apcer,bpcer)\n",
    "print(acer,acc)"
   ]
  },
  {
   "cell_type": "code",
   "execution_count": 35,
   "id": "52e1efd0-0d0d-4848-9849-4a60814b2614",
   "metadata": {},
   "outputs": [
    {
     "name": "stdout",
     "output_type": "stream",
     "text": [
      "0.4980958781362007\n"
     ]
    }
   ],
   "source": [
    "frr = 1-tpr\n",
    "print((frr+fpr)/2)"
   ]
  },
  {
   "cell_type": "code",
   "execution_count": 42,
   "id": "a53f22db-e647-48f6-aec7-6ecb4bf01623",
   "metadata": {},
   "outputs": [],
   "source": [
    "fpr, tpr, thresholds = roc_curve(gt, score, pos_label=1)\n",
    "frr = 1-tpr\n",
    "far = fpr"
   ]
  },
  {
   "cell_type": "code",
   "execution_count": 38,
   "id": "32abda09-dd8c-4e86-abd9-db4efb352f6f",
   "metadata": {},
   "outputs": [],
   "source": [
    "min_index = np.nanargmin(np.absolute((frr - far)))\n",
    "far_eer = far[min_index]\n",
    "frr_eer = frr[min_index]\n",
    "eer = (frr_eer+far_eer)/2"
   ]
  },
  {
   "cell_type": "code",
   "execution_count": 39,
   "id": "79787278-0c1a-4b11-b907-7bb8fd027be7",
   "metadata": {},
   "outputs": [],
   "source": [
    "hter_list=[]\n",
    "for i in range(len(frr)):\n",
    "    hter_list.append((frr[i]+far[i])/2)\n",
    "\n",
    "hter = np.mean(hter_list)"
   ]
  },
  {
   "cell_type": "code",
   "execution_count": 41,
   "id": "901ed029-0f2d-46b4-bd43-dda153788865",
   "metadata": {},
   "outputs": [
    {
     "name": "stdout",
     "output_type": "stream",
     "text": [
      "0.49603174603174605 0.4959677419354839\n",
      "0.49599974398361496 0.5117828263900456\n"
     ]
    }
   ],
   "source": [
    "#print(frr,far)\n",
    "print(far_eer,frr_eer)\n",
    "print(eer,hter)"
   ]
  },
  {
   "cell_type": "code",
   "execution_count": 43,
   "id": "68c1f67b-ef78-4e9e-b1b6-60796a11ff3a",
   "metadata": {},
   "outputs": [],
   "source": [
    "fpr, tpr, thresholds = roc_curve(gt, score, pos_label=1)\n",
    "frr = 1-tpr\n",
    "far = fpr"
   ]
  },
  {
   "cell_type": "code",
   "execution_count": 44,
   "id": "44e96279-041a-4cfb-983a-bcd8c6efcf48",
   "metadata": {},
   "outputs": [],
   "source": [
    "hter = (far+frr)/2.0"
   ]
  },
  {
   "cell_type": "code",
   "execution_count": 46,
   "id": "41bae5d2-c9c0-4ba9-9e93-9cafac56ed69",
   "metadata": {},
   "outputs": [
    {
     "data": {
      "text/plain": [
       "0.5117828263900456"
      ]
     },
     "execution_count": 46,
     "metadata": {},
     "output_type": "execute_result"
    }
   ],
   "source": [
    "np.mean(hter)"
   ]
  },
  {
   "cell_type": "code",
   "execution_count": null,
   "id": "ec8a8b0b-406f-4627-be2a-3027909ad1df",
   "metadata": {},
   "outputs": [],
   "source": []
  }
 ],
 "metadata": {
  "kernelspec": {
   "display_name": "Python 3 (ipykernel)",
   "language": "python",
   "name": "python3"
  },
  "language_info": {
   "codemirror_mode": {
    "name": "ipython",
    "version": 3
   },
   "file_extension": ".py",
   "mimetype": "text/x-python",
   "name": "python",
   "nbconvert_exporter": "python",
   "pygments_lexer": "ipython3",
   "version": "3.8.10"
  }
 },
 "nbformat": 4,
 "nbformat_minor": 5
}
