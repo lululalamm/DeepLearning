{
 "cells": [
  {
   "cell_type": "code",
   "execution_count": 1,
   "id": "c50a625d-4181-4799-9e6d-ecc97b6375cd",
   "metadata": {},
   "outputs": [],
   "source": [
    "import os, glob\n",
    "import numpy as np\n",
    "import cv2\n",
    "import matplotlib.pyplot as plt"
   ]
  },
  {
   "cell_type": "code",
   "execution_count": 2,
   "id": "04308b34-9f26-43f1-ab3b-50e3d5615aa8",
   "metadata": {},
   "outputs": [
    {
     "name": "stderr",
     "output_type": "stream",
     "text": [
      "/usr/local/lib/python3.8/dist-packages/pkg_resources/__init__.py:116: PkgResourcesDeprecationWarning: 0.23ubuntu1 is an invalid version and will not be supported in a future release\n",
      "  warnings.warn(\n",
      "/usr/local/lib/python3.8/dist-packages/pkg_resources/_vendor/packaging/version.py:111: DeprecationWarning: Creating a LegacyVersion has been deprecated and will be removed in the next major release\n",
      "  warnings.warn(\n"
     ]
    }
   ],
   "source": [
    "from totalface_cpu.model_zoo.get_models import get_detection_model,get_recognition_model\n",
    "from totalface_cpu.face.get_result import get_detection,get_features\n",
    "from totalface_cpu.data import read_image\n",
    "from totalface_cpu.utils.util_common import draw_result"
   ]
  },
  {
   "cell_type": "code",
   "execution_count": 3,
   "id": "89b07cf4-5e8a-4f0b-9fb3-846e5d5e4b9c",
   "metadata": {},
   "outputs": [
    {
     "name": "stdout",
     "output_type": "stream",
     "text": [
      "providers: ['CPUExecutionProvider']\n",
      "scrfd onnx loaded\n"
     ]
    }
   ],
   "source": [
    "# detection\n",
    "detection_name = \"scrfd\"\n",
    "detection_path = \"scrfd_10g_bnkps.onnx\"\n",
    "\n",
    "# Set parameters\n",
    "detection_thresh = 0.5\n",
    "detection_height_min=0 \n",
    "\n",
    "# if load multiple trt, load_multi=True, default False\n",
    "detection_model = get_detection_model(detection_name,detection_path,load_multi=False)"
   ]
  },
  {
   "cell_type": "code",
   "execution_count": 4,
   "id": "50667aa1-f5c6-4b85-be5e-c541786f1bdc",
   "metadata": {},
   "outputs": [],
   "source": [
    "# wild"
   ]
  },
  {
   "cell_type": "code",
   "execution_count": 5,
   "id": "b4811002-e7e9-45de-9f75-91d9b08f1bc6",
   "metadata": {},
   "outputs": [],
   "source": [
    "img_prefix = \"/data/\""
   ]
  },
  {
   "cell_type": "code",
   "execution_count": 6,
   "id": "4c31e001-4459-4e0d-880c-d3e948cf546f",
   "metadata": {},
   "outputs": [],
   "source": [
    "base = \"FaceInTheWild/{}/image_list_org_1_80x60_new_unmask.txt\""
   ]
  },
  {
   "cell_type": "code",
   "execution_count": 7,
   "id": "ffa42917-506c-4a29-9a77-d2438f588a6f",
   "metadata": {},
   "outputs": [],
   "source": [
    "tv = ['Training','Validation']"
   ]
  },
  {
   "cell_type": "code",
   "execution_count": 8,
   "id": "cb8390a4-8958-4f2c-ab53-bd21e592553b",
   "metadata": {},
   "outputs": [],
   "source": [
    "txt_path = base.format(tv[1])"
   ]
  },
  {
   "cell_type": "code",
   "execution_count": 9,
   "id": "fdc38e2f-e310-420c-a414-8225d60f4bac",
   "metadata": {},
   "outputs": [],
   "source": [
    "lines = open(txt_path,'r').readlines()"
   ]
  },
  {
   "cell_type": "code",
   "execution_count": 24,
   "id": "90763cd1-8f43-4f4a-83c2-673baad0e919",
   "metadata": {},
   "outputs": [],
   "source": [
    "for li,line in enumerate(lines):\n",
    "    sp = line.strip().split(\",\")\n",
    "    ori_sub,new_sub,_,_,id_val,age,gender,_,_,lb_str = sp\n",
    "    \n",
    "    ori_path = os.path.join(img_prefix,ori_sub)\n",
    "    img_rgb = read_image(ori_path)\n",
    "    \n",
    "    faces = get_detection(detection_name,detection_model,img_rgb,thresh=detection_thresh,height_min=detection_height_min,input_size=(640,640))\n",
    "    \n",
    "    if len(faces)==1:\n",
    "        face = faces[0]\n",
    "    elif len(faces)<1:\n",
    "        print(\"not detect\")\n",
    "    else:\n",
    "        for fc in faces:\n",
    "            if fc['max_flag']:\n",
    "                face = fc\n",
    "                break\n",
    "                \n",
    "    box = face['bbox'].astype(np.int32)\n",
    "    box = np.maximum(box, 0)\n",
    "    \n",
    "    cropped = img_rgb[int(box[1]):int(box[3]), int(box[0]):int(box[2])]\n",
    "    cropped = cv2.resize(cropped,(224,224))\n",
    "    cropped_bgr = cv2.cvtColor(cropped,cv2.COLOR_RGB2BGR)\n",
    "    break\n",
    "    \n",
    "    "
   ]
  },
  {
   "cell_type": "code",
   "execution_count": 25,
   "id": "c9f03d16-cf9e-422a-af28-e7f5e9390563",
   "metadata": {},
   "outputs": [],
   "source": [
    "new_name = \"{}_{}.jpg\".format(li,id_val)"
   ]
  },
  {
   "cell_type": "code",
   "execution_count": 29,
   "id": "810377e8-2755-4db9-9e3b-8b461417e95d",
   "metadata": {},
   "outputs": [],
   "source": [
    "base = \"/data/shared/Face/FaceLiveness/datasets/casia-fasd_images/original/{}_img/color/\"\n",
    "tv=['train','test']"
   ]
  },
  {
   "cell_type": "code",
   "execution_count": 32,
   "id": "33d5e16d-3201-4fb5-9750-0a1f8d9ea432",
   "metadata": {},
   "outputs": [],
   "source": [
    "img_list = glob.glob(base.format(tv[1])+\"*.jpg\")+glob.glob(base.format(tv[1])+\"*.png\")"
   ]
  },
  {
   "cell_type": "code",
   "execution_count": 36,
   "id": "4c5c5c39-43a7-4218-9c35-f914ac5e6809",
   "metadata": {},
   "outputs": [],
   "source": [
    "img_dict={}\n",
    "for imgpath in img_list:\n",
    "    img_name = imgpath.split(\"/\")[-1]\n",
    "    id_val = img_name.split(\".avi\")[0]\n",
    "    if not id_val in img_dict:\n",
    "        img_dict[id_val]=[]\n",
    "    img_dict[id_val].append(imgpath)"
   ]
  },
  {
   "cell_type": "code",
   "execution_count": 50,
   "id": "48b15e0d-afe0-48c9-96fc-eaec6d8a8493",
   "metadata": {},
   "outputs": [],
   "source": [
    "p1 = img_dict['30_7'][0]\n",
    "p2 = img_dict['30_7'][5]\n",
    "img1 = read_image(p1)\n",
    "img2 = read_image(p2)"
   ]
  },
  {
   "cell_type": "code",
   "execution_count": null,
   "id": "494573b4-4857-48a0-8f0f-aedc5d163f30",
   "metadata": {},
   "outputs": [],
   "source": []
  }
 ],
 "metadata": {
  "kernelspec": {
   "display_name": "Python 3 (ipykernel)",
   "language": "python",
   "name": "python3"
  },
  "language_info": {
   "codemirror_mode": {
    "name": "ipython",
    "version": 3
   },
   "file_extension": ".py",
   "mimetype": "text/x-python",
   "name": "python",
   "nbconvert_exporter": "python",
   "pygments_lexer": "ipython3",
   "version": "3.8.10"
  }
 },
 "nbformat": 4,
 "nbformat_minor": 5
}
