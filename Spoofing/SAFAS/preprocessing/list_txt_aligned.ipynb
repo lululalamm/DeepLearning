{
 "cells": [
  {
   "cell_type": "code",
   "execution_count": 11,
   "id": "0d998346-331f-4778-bb1b-ff4d44a0dd07",
   "metadata": {},
   "outputs": [],
   "source": [
    "import os,glob\n",
    "import numpy as np\n",
    "import pandas as pd\n",
    "from tqdm import tqdm"
   ]
  },
  {
   "cell_type": "code",
   "execution_count": 12,
   "id": "a155e9e2-f2f7-4c8f-a68d-b72f4e8f5e80",
   "metadata": {},
   "outputs": [],
   "source": [
    "# label = fake 0 / real 1"
   ]
  },
  {
   "cell_type": "code",
   "execution_count": 13,
   "id": "2ae47cc0-0673-4074-a544-7ae0a33aaa33",
   "metadata": {},
   "outputs": [],
   "source": [
    "# wild"
   ]
  },
  {
   "cell_type": "code",
   "execution_count": 14,
   "id": "aebf9e03-6ead-405c-af06-24932d5355f3",
   "metadata": {},
   "outputs": [],
   "source": [
    "tv = ['Training','Validation']\n",
    "save_tv = ['train','test']\n",
    "base = \"FaceInTheWild/unmask/{}/aligned_256/\""
   ]
  },
  {
   "cell_type": "code",
   "execution_count": 15,
   "id": "076c57cf-4b7c-4adb-85b7-00aa771ef224",
   "metadata": {},
   "outputs": [],
   "source": [
    "save_base = \"./wild_align_list_{}.csv\""
   ]
  },
  {
   "cell_type": "code",
   "execution_count": 17,
   "id": "2beba5c7-e416-411f-861e-eceeb30914f2",
   "metadata": {},
   "outputs": [
    {
     "name": "stderr",
     "output_type": "stream",
     "text": [
      "100%|██████████| 1275183/1275183 [00:19<00:00, 64609.72it/s]\n",
      "100%|██████████| 137609/137609 [00:02<00:00, 65833.89it/s]\n"
     ]
    }
   ],
   "source": [
    "for i in range(len(tv)):\n",
    "    tval = tv[i]\n",
    "    save_tval = save_tv[i]\n",
    "    img_list = glob.glob(base.format(tval)+\"*/*.jpg\")\n",
    "    \n",
    "    with open(save_base.format(save_tval),'w') as f:\n",
    "        for img_path in tqdm(img_list):\n",
    "            img_name = img_path.split(\"/\")[-1]\n",
    "            lb_str = int(img_path.split(\"/\")[-2])\n",
    "            if lb_str==0:\n",
    "                lb_save='real'\n",
    "            else:\n",
    "                lb_save='fake'\n",
    "\n",
    "            id_val_new = \"wild_{}-{}\".format(img_path.split(\"/\")[-2],img_name.split(\".\")[0])\n",
    "\n",
    "            new_line = \"{},{},{}\\n\".format(img_path,id_val_new,lb_save)\n",
    "            f.writelines(new_line)"
   ]
  },
  {
   "cell_type": "code",
   "execution_count": null,
   "id": "99650bdd-5556-43e1-b671-ed6d8f1371dc",
   "metadata": {},
   "outputs": [],
   "source": [
    "# celebA"
   ]
  },
  {
   "cell_type": "code",
   "execution_count": 22,
   "id": "0e5a3140-86e2-4b66-853e-aec380e4dde1",
   "metadata": {},
   "outputs": [],
   "source": [
    "tv = ['train','test']\n",
    "base = \"CelebA_Spoof/aligned_256/{}/\""
   ]
  },
  {
   "cell_type": "code",
   "execution_count": 23,
   "id": "e4627c62-940d-4b68-a493-6e2f2d0bbe0d",
   "metadata": {},
   "outputs": [],
   "source": [
    "save_base = \"./celebA_align_list_{}.csv\""
   ]
  },
  {
   "cell_type": "code",
   "execution_count": 24,
   "id": "a8cd26d1-8a98-484e-a9b8-644c57bb0736",
   "metadata": {},
   "outputs": [
    {
     "name": "stderr",
     "output_type": "stream",
     "text": [
      "100%|██████████| 477397/477397 [00:06<00:00, 69255.64it/s]\n",
      "100%|██████████| 62263/62263 [00:00<00:00, 70331.11it/s]\n"
     ]
    }
   ],
   "source": [
    "for i in range(len(tv)):\n",
    "    tval = tv[i]\n",
    "    img_list = glob.glob(base.format(tval)+\"*.jpg\")+glob.glob(base.format(tval)+\"*.png\")\n",
    "    \n",
    "    with open(save_base.format(tval),'w') as f:\n",
    "        for img_path in tqdm(img_list):\n",
    "            img_name = img_path.split(\"/\")[-1]\n",
    "            id_val = img_name.split(\"_\")[1]\n",
    "            lb_save = img_name.split(\"_\")[3] # real or fake\n",
    "\n",
    "            id_val_new = \"celebA_{}\".format(id_val)\n",
    "\n",
    "            new_line = \"{},{},{}\\n\".format(img_path,id_val_new,lb_save)\n",
    "            f.writelines(new_line)"
   ]
  },
  {
   "cell_type": "code",
   "execution_count": null,
   "id": "460eaccd-a1dc-48f7-aaf8-6fa962ac0977",
   "metadata": {},
   "outputs": [],
   "source": []
  },
  {
   "cell_type": "code",
   "execution_count": null,
   "id": "6b6de1f7-b6fe-4cf3-ba18-b915957bca74",
   "metadata": {},
   "outputs": [],
   "source": [
    "# casia"
   ]
  },
  {
   "cell_type": "code",
   "execution_count": 29,
   "id": "350b42d1-8a83-432a-b603-e07b127fa95a",
   "metadata": {},
   "outputs": [],
   "source": [
    "tv = ['train','test']\n",
    "base = \"casia-fasd_images/aligned_256/{}/\""
   ]
  },
  {
   "cell_type": "code",
   "execution_count": 30,
   "id": "e6ef6248-9b8b-4d54-84b4-420d54677d56",
   "metadata": {},
   "outputs": [],
   "source": [
    "save_base = \"./casia_align_list_{}.csv\""
   ]
  },
  {
   "cell_type": "code",
   "execution_count": 31,
   "id": "1a37e5cf-4148-496a-bfe0-14590a1b0759",
   "metadata": {},
   "outputs": [
    {
     "name": "stderr",
     "output_type": "stream",
     "text": [
      "100%|██████████| 1655/1655 [00:00<00:00, 64807.89it/s]\n",
      "100%|██████████| 2408/2408 [00:00<00:00, 61953.74it/s]\n"
     ]
    }
   ],
   "source": [
    "for i in range(len(tv)):\n",
    "    tval = tv[i]\n",
    "    img_list = glob.glob(base.format(tval)+\"*.jpg\")+glob.glob(base.format(tval)+\"*.png\")\n",
    "    \n",
    "    with open(save_base.format(tval),'w') as f:\n",
    "        for img_path in tqdm(img_list):\n",
    "            img_name = img_path.split(\"/\")[-1]\n",
    "            id_val = img_name.split(\".avi\")[0]\n",
    "            if \"fake\" in img_path:\n",
    "                lb_save = 'fake'\n",
    "            else:\n",
    "                lb_save = 'real'\n",
    "\n",
    "            id_val_new = \"casia_{}\".format(id_val)\n",
    "\n",
    "            new_line = \"{},{},{}\\n\".format(img_path,id_val_new,lb_save)\n",
    "            f.writelines(new_line)"
   ]
  },
  {
   "cell_type": "code",
   "execution_count": null,
   "id": "6f8ad4ec-05dd-420d-9a55-fedd87b90e16",
   "metadata": {},
   "outputs": [],
   "source": []
  },
  {
   "cell_type": "code",
   "execution_count": null,
   "id": "a4ce83a8-a699-4691-b04f-51be14b2a8eb",
   "metadata": {},
   "outputs": [],
   "source": []
  }
 ],
 "metadata": {
  "kernelspec": {
   "display_name": "Python 3 (ipykernel)",
   "language": "python",
   "name": "python3"
  },
  "language_info": {
   "codemirror_mode": {
    "name": "ipython",
    "version": 3
   },
   "file_extension": ".py",
   "mimetype": "text/x-python",
   "name": "python",
   "nbconvert_exporter": "python",
   "pygments_lexer": "ipython3",
   "version": "3.8.10"
  }
 },
 "nbformat": 4,
 "nbformat_minor": 5
}
