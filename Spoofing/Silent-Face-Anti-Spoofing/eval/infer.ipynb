{
 "cells": [
  {
   "cell_type": "code",
   "execution_count": 1,
   "id": "6958d344-273e-4116-ad32-ff30b0394633",
   "metadata": {},
   "outputs": [],
   "source": [
    "import os\n",
    "import numpy as np\n",
    "import matplotlib.pyplot as plt\n",
    "import cv2"
   ]
  },
  {
   "cell_type": "code",
   "execution_count": 2,
   "id": "da4f6d5a-f3e1-479b-9bff-faf5b3ab9684",
   "metadata": {},
   "outputs": [
    {
     "name": "stderr",
     "output_type": "stream",
     "text": [
      "/usr/local/lib/python3.8/dist-packages/pkg_resources/__init__.py:116: PkgResourcesDeprecationWarning: 0.23ubuntu1 is an invalid version and will not be supported in a future release\n",
      "  warnings.warn(\n",
      "/usr/local/lib/python3.8/dist-packages/pkg_resources/_vendor/packaging/version.py:111: DeprecationWarning: Creating a LegacyVersion has been deprecated and will be removed in the next major release\n",
      "  warnings.warn(\n"
     ]
    }
   ],
   "source": [
    "from src.anti_spoof_predict_scrfd import AntiSpoofPredict\n",
    "from src.generate_patches import CropImage\n",
    "from src.utility import parse_model_name"
   ]
  },
  {
   "cell_type": "code",
   "execution_count": 3,
   "id": "0fda21da-1d79-4572-ae9c-3bb5a2215e8f",
   "metadata": {},
   "outputs": [],
   "source": [
    "h_input=80\n",
    "w_input=80\n",
    "device=0\n",
    "scale=2.7\n",
    "\n",
    "vino_base = \"scrfd_10g_bnkps_quantINT8\""
   ]
  },
  {
   "cell_type": "code",
   "execution_count": 4,
   "id": "6dbc9d0f-9be9-4ba1-8bdf-8cb00f4f3119",
   "metadata": {},
   "outputs": [
    {
     "name": "stdout",
     "output_type": "stream",
     "text": [
      "scrfd openvino loaded\n"
     ]
    }
   ],
   "source": [
    "# detect and predict model init\n",
    "model_test = AntiSpoofPredict(device,vino_base)"
   ]
  },
  {
   "cell_type": "code",
   "execution_count": 5,
   "id": "ab0f0067-ab3d-426f-b82b-9610f2093bcd",
   "metadata": {},
   "outputs": [],
   "source": [
    "# cropper init\n",
    "image_cropper = CropImage()"
   ]
  },
  {
   "cell_type": "code",
   "execution_count": 7,
   "id": "61e9610b-a468-43c5-8738-560b8ad237ac",
   "metadata": {},
   "outputs": [],
   "source": [
    "# sample image path\n",
    "txt_path = \"FaceInTheWild/unmask/Validation/image_list_org_1_80x60_new_unmask.txt\"\n",
    "lines = open(txt_path,'r').readlines()\n",
    "line = lines[0]\n",
    "\n",
    "img_prefix = \"/data/\"\n",
    "path = line.split(\",\")[0]\n",
    "img_path = os.path.join(img_prefix,path)"
   ]
  },
  {
   "cell_type": "code",
   "execution_count": 8,
   "id": "3c249635-e373-4e1c-b5c7-7b7306750c30",
   "metadata": {},
   "outputs": [],
   "source": [
    "# image load \n",
    "image = cv2.imread(img_path)\n",
    "image_bbox = model_test.get_bbox(image)"
   ]
  },
  {
   "cell_type": "code",
   "execution_count": 9,
   "id": "c4aa7567-8223-43e6-a810-f7b7730bdbe6",
   "metadata": {},
   "outputs": [],
   "source": [
    "param = {\n",
    "            \"org_img\": image,\n",
    "            \"bbox\": image_bbox,\n",
    "            \"scale\": scale,\n",
    "            \"out_w\": w_input,\n",
    "            \"out_h\": h_input,\n",
    "            \"crop\": True,\n",
    "        }"
   ]
  },
  {
   "cell_type": "code",
   "execution_count": 10,
   "id": "26489b60-f270-4bed-a433-94d2216d2ac9",
   "metadata": {},
   "outputs": [],
   "source": [
    "img = image_cropper.crop(**param) # BGR"
   ]
  },
  {
   "cell_type": "code",
   "execution_count": 11,
   "id": "f4de5ae5-09d3-4682-8400-1a14fb841ccc",
   "metadata": {},
   "outputs": [
    {
     "name": "stderr",
     "output_type": "stream",
     "text": [
      "/data/nsense-ptas/deepface/spoofing/Silent-Face-Anti-Spoofing/src/anti_spoof_predict_scrfd.py:101: UserWarning: Implicit dimension choice for softmax has been deprecated. Change the call to include dim=X as an argument.\n",
      "  result = F.softmax(result).cpu().numpy()\n"
     ]
    }
   ],
   "source": [
    "model_path = \"wildcelebA_2.7.pth\"\n",
    "num_classes=2\n",
    "model_type='MultiFTNet'\n",
    "\n",
    "out = model_test.predict(img, model_path,num_classes = num_classes,h=h_input,w=w_input,model_type=model_type)"
   ]
  },
  {
   "cell_type": "code",
   "execution_count": 13,
   "id": "33328399-ad32-4985-8a60-95589e0f6807",
   "metadata": {},
   "outputs": [],
   "source": [
    "pred,_ = out"
   ]
  },
  {
   "cell_type": "code",
   "execution_count": 14,
   "id": "fc2d6cef-e369-4168-9886-c2b29319bec5",
   "metadata": {},
   "outputs": [
    {
     "data": {
      "text/plain": [
       "array([[0.99483263, 0.00516738]], dtype=float32)"
      ]
     },
     "execution_count": 14,
     "metadata": {},
     "output_type": "execute_result"
    }
   ],
   "source": [
    "pred # [[real, fake]]"
   ]
  },
  {
   "cell_type": "code",
   "execution_count": null,
   "id": "ca7d35c0-cbb0-4a7d-a5ce-c97dfa2f5af4",
   "metadata": {},
   "outputs": [],
   "source": []
  }
 ],
 "metadata": {
  "kernelspec": {
   "display_name": "Python 3 (ipykernel)",
   "language": "python",
   "name": "python3"
  },
  "language_info": {
   "codemirror_mode": {
    "name": "ipython",
    "version": 3
   },
   "file_extension": ".py",
   "mimetype": "text/x-python",
   "name": "python",
   "nbconvert_exporter": "python",
   "pygments_lexer": "ipython3",
   "version": "3.8.10"
  }
 },
 "nbformat": 4,
 "nbformat_minor": 5
}
