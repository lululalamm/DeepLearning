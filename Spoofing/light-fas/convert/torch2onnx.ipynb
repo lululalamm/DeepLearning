{
 "cells": [
  {
   "cell_type": "code",
   "execution_count": 2,
   "id": "665f2e24-fc6d-4d61-9748-2931434b0ff7",
   "metadata": {},
   "outputs": [],
   "source": [
    "import os\n",
    "\n",
    "import torch\n",
    "\n",
    "from utils import build_model, load_checkpoint, read_py_config"
   ]
  },
  {
   "cell_type": "code",
   "execution_count": null,
   "id": "569c8913-01bd-44cd-95cc-a7d41277911f",
   "metadata": {},
   "outputs": [],
   "source": [
    "config_path = \"./configs/config_large_01_wildcelebA.py\"\n",
    "model_path = \"./logs_wildcelebA/~.pth\"\n",
    "save_path=\"./save.onnx\"\n",
    "\n",
    "img_size=(128,128)"
   ]
  },
  {
   "cell_type": "code",
   "execution_count": null,
   "id": "c3596ae5-6970-43b2-8fe7-49e47cac1216",
   "metadata": {},
   "outputs": [],
   "source": [
    "device = 'cuda:0'"
   ]
  },
  {
   "cell_type": "code",
   "execution_count": null,
   "id": "56713dae-70a0-46f0-a6c8-37cedb5e4db4",
   "metadata": {},
   "outputs": [],
   "source": [
    "config = read_py_config(path_to_config)"
   ]
  },
  {
   "cell_type": "code",
   "execution_count": null,
   "id": "d27a1120-b174-4add-9053-4236307b7f76",
   "metadata": {},
   "outputs": [],
   "source": [
    "dummy_input = torch.rand(size=(1,3,*img_size), device=device)"
   ]
  },
  {
   "cell_type": "code",
   "execution_count": null,
   "id": "7a3ea0e6-7f37-4ab5-b71b-d5ef3890c459",
   "metadata": {},
   "outputs": [],
   "source": [
    "model = build_model(config, device, strict=True, mode='convert')\n",
    "model.to(device)"
   ]
  },
  {
   "cell_type": "code",
   "execution_count": null,
   "id": "d1443caa-deb5-47d4-83c9-0012ae8953b7",
   "metadata": {},
   "outputs": [],
   "source": [
    "if config.data_parallel.use_parallel:\n",
    "    model = torch.nn.DataParallel(model, **config.data_parallel.parallel_params)"
   ]
  },
  {
   "cell_type": "code",
   "execution_count": null,
   "id": "01601fdb-c76b-4ed7-b245-61fceec76ed6",
   "metadata": {},
   "outputs": [],
   "source": [
    "load_checkpoint(path_to_experiment, model, map_location=torch.device(device),\n",
    "                    optimizer=None, strict=True)"
   ]
  },
  {
   "cell_type": "code",
   "execution_count": null,
   "id": "bb608103-bfb0-405f-9e3a-a4d8accc2f50",
   "metadata": {},
   "outputs": [],
   "source": [
    "_ = model.eval()"
   ]
  },
  {
   "cell_type": "code",
   "execution_count": null,
   "id": "0d019baf-cfef-42e0-b414-dd3a30f3e4df",
   "metadata": {},
   "outputs": [],
   "source": [
    "input_names = [\"data\"]\n",
    "output_names = [\"probs\"]"
   ]
  },
  {
   "cell_type": "code",
   "execution_count": null,
   "id": "0a58d655-f733-4b50-bf9e-3ce4ba7d9f8b",
   "metadata": {},
   "outputs": [],
   "source": [
    "torch.onnx.export(model, dummy_input, save_path, verbose=True,\n",
    "                      input_names=input_names, output_names=output_names)"
   ]
  }
 ],
 "metadata": {
  "kernelspec": {
   "display_name": "Python 3 (ipykernel)",
   "language": "python",
   "name": "python3"
  },
  "language_info": {
   "codemirror_mode": {
    "name": "ipython",
    "version": 3
   },
   "file_extension": ".py",
   "mimetype": "text/x-python",
   "name": "python",
   "nbconvert_exporter": "python",
   "pygments_lexer": "ipython3",
   "version": "3.8.10"
  }
 },
 "nbformat": 4,
 "nbformat_minor": 5
}
