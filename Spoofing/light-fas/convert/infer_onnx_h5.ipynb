{
 "cells": [
  {
   "cell_type": "code",
   "execution_count": null,
   "id": "ad3dd3cc-a242-42da-a344-365c7d1e13e3",
   "metadata": {},
   "outputs": [],
   "source": [
    "import os\n",
    "import numpy as np\n",
    "from PIL import Image\n",
    "import cv2\n",
    "import matplotlib.pyplot as plt\n",
    "import torch\n",
    "import h5py\n",
    "import random\n",
    "\n",
    "from totalface_cpu.model_zoo.model_common import load_onnx"
   ]
  },
  {
   "cell_type": "code",
   "execution_count": null,
   "id": "342d3d05-c4f1-448f-9741-4edaf70a28e7",
   "metadata": {},
   "outputs": [],
   "source": [
    "def normalization(rgb_img,mean_list=[0.485, 0.456, 0.406],std_list=[0.229, 0.224, 0.225]):\n",
    "    MEAN = 255 * np.array(mean_list)\n",
    "    STD = 255 * np.array(std_list)\n",
    "    rgb_img = rgb_img.transpose(-1, 0, 1)\n",
    "    norm_img = (rgb_img - MEAN[:, None, None]) / STD[:, None, None]\n",
    "    \n",
    "    return norm_img"
   ]
  },
  {
   "cell_type": "code",
   "execution_count": null,
   "id": "855fc1bc-b9bc-4aad-8517-378416787ff7",
   "metadata": {},
   "outputs": [],
   "source": [
    "def read_image(path,bbox,mean,std,resize=128,prefix='',ori_return=False):\n",
    "    img = cv2.imread(prefix+path)\n",
    "    img = cv2.cvtColor(img, cv2.COLOR_BGR2RGB)\n",
    "\n",
    "    cropped = img[bbox[1]:bbox[3],bbox[0]:bbox[2]]\n",
    "\n",
    "    input_img = cv2.resize(cropped,(resize,resize),interpolation=cv2.INTER_CUBIC)\n",
    "    input_img = normalization(input_img,mean,std)\n",
    "    input_img = np.transpose(input_img,(1,2,0))\n",
    "    \n",
    "    if ori_return:\n",
    "        return input_img, img\n",
    "    else:\n",
    "        return input_img"
   ]
  },
  {
   "cell_type": "code",
   "execution_count": null,
   "id": "01d69f09-a7c3-46f6-a638-11115a6edccc",
   "metadata": {},
   "outputs": [],
   "source": [
    "# model load \n",
    "model_path = \"./pretrained/anti-spoof-mn3.onnx\"\n",
    "model = load_onnx.Onnx_session(model_path,input_mean=0.0, input_std=1.0,output_sort=True)\n",
    "# input (1,3,128,128)\n",
    "# output (1,2)\n",
    "\n",
    "# result label\n",
    "pred_dict={0:'real',1:'fake'}"
   ]
  },
  {
   "cell_type": "code",
   "execution_count": null,
   "id": "f02cc852-7076-4e5c-950a-04573c4cfe73",
   "metadata": {},
   "outputs": [],
   "source": [
    "# image param\n",
    "mean=[0.5931, 0.4690, 0.4229]\n",
    "std=[0.2471, 0.2214, 0.2157]\n",
    "resize=128"
   ]
  },
  {
   "cell_type": "code",
   "execution_count": null,
   "id": "d99a2cb3-1354-4526-97ef-881502884b16",
   "metadata": {},
   "outputs": [],
   "source": [
    "# dataset\n",
    "h5_path = \"FaceInTheWild/results_scrfd_10g/wild_test.h5\"\n",
    "hf = h5py.File(h5_path,'r')\n",
    "\n",
    "paths = hf['path']\n",
    "bboxs = hf['bboxs']\n",
    "labels = hf['labels']\n",
    "indexs = range(len(paths))\n",
    "\n",
    "prefix = \"/data/\""
   ]
  },
  {
   "cell_type": "code",
   "execution_count": null,
   "id": "1ec5b438-74e6-44e5-918b-a266130c4de3",
   "metadata": {},
   "outputs": [],
   "source": [
    "choice_idx = random.choice(indexs)"
   ]
  },
  {
   "cell_type": "code",
   "execution_count": null,
   "id": "0ab69fe8-c668-488b-8a57-48f912a289c9",
   "metadata": {},
   "outputs": [],
   "source": [
    "path = paths[choice_idx]\n",
    "bbox = bboxs[choice_idx]\n",
    "label = labels[choice_idx]"
   ]
  },
  {
   "cell_type": "code",
   "execution_count": null,
   "id": "5e5d062d-cddc-4277-b8fa-1cd3d3966e29",
   "metadata": {},
   "outputs": [],
   "source": [
    "# input\n",
    "input_img , img = read_image(path,bbox,mean,std,resize=resize,prefix=prefix,ori_return=True)"
   ]
  },
  {
   "cell_type": "code",
   "execution_count": null,
   "id": "763dde46-b3ad-4919-a809-7cebabeeb40d",
   "metadata": {},
   "outputs": [],
   "source": [
    "# run\n",
    "out = model(input_img)[0][0] # prob (real,fake)\n",
    "pred_idx = np.argmax(out)"
   ]
  },
  {
   "cell_type": "code",
   "execution_count": null,
   "id": "607d2e15-7c60-4fd0-9cc1-7c6554001270",
   "metadata": {},
   "outputs": [],
   "source": [
    "print(out) # real, fake\n",
    "print(\"gt: {} / pred: {}\".format(label,pred_dict[pred_idx]))"
   ]
  },
  {
   "cell_type": "code",
   "execution_count": null,
   "id": "77b0a7aa-d02f-432f-b551-5cf41c6a1ac1",
   "metadata": {},
   "outputs": [],
   "source": [
    "plt.imshow(img)"
   ]
  },
  {
   "cell_type": "code",
   "execution_count": null,
   "id": "d37718ac-8d07-47ed-a4b7-4835cbd582ef",
   "metadata": {},
   "outputs": [],
   "source": []
  }
 ],
 "metadata": {
  "kernelspec": {
   "display_name": "Python 3 (ipykernel)",
   "language": "python",
   "name": "python3"
  },
  "language_info": {
   "codemirror_mode": {
    "name": "ipython",
    "version": 3
   },
   "file_extension": ".py",
   "mimetype": "text/x-python",
   "name": "python",
   "nbconvert_exporter": "python",
   "pygments_lexer": "ipython3",
   "version": "3.8.10"
  }
 },
 "nbformat": 4,
 "nbformat_minor": 5
}
