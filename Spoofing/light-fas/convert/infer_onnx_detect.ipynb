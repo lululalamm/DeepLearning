{
 "cells": [
  {
   "cell_type": "code",
   "execution_count": null,
   "id": "3ed52911-c372-48f3-918e-074c37332579",
   "metadata": {},
   "outputs": [],
   "source": [
    "import os\n",
    "import glob\n",
    "import numpy as np\n",
    "from PIL import Image\n",
    "import cv2\n",
    "import matplotlib.pyplot as plt\n",
    "import torch\n",
    "import h5py\n",
    "import random\n",
    "\n",
    "from totalface_cpu.model_zoo.model_common import load_onnx\n",
    "from totalface_cpu.model_zoo.get_models import get_detection_model\n",
    "from totalface_cpu.face.get_result import get_detection"
   ]
  },
  {
   "cell_type": "code",
   "execution_count": null,
   "id": "cbb08e99-280b-4b80-8ac3-4a0be8b3963a",
   "metadata": {},
   "outputs": [],
   "source": [
    "def normalization(rgb_img,mean_list=[0.485, 0.456, 0.406],std_list=[0.229, 0.224, 0.225]):\n",
    "    MEAN = 255 * np.array(mean_list)\n",
    "    STD = 255 * np.array(std_list)\n",
    "    rgb_img = rgb_img.transpose(-1, 0, 1)\n",
    "    norm_img = (rgb_img - MEAN[:, None, None]) / STD[:, None, None]\n",
    "    \n",
    "    return norm_img"
   ]
  },
  {
   "cell_type": "code",
   "execution_count": null,
   "id": "34bd1faf-cf87-4e87-8f1f-2147c9e148f3",
   "metadata": {},
   "outputs": [],
   "source": [
    "def read_image(path,bbox,mean,std,resize=128,prefix='',ori_return=False):\n",
    "    img = cv2.imread(prefix+path)\n",
    "    img = cv2.cvtColor(img, cv2.COLOR_BGR2RGB)\n",
    "\n",
    "    cropped = img[bbox[1]:bbox[3],bbox[0]:bbox[2]]\n",
    "\n",
    "    input_img = cv2.resize(cropped,(resize,resize),interpolation=cv2.INTER_CUBIC)\n",
    "    input_img = normalization(input_img,mean,std)\n",
    "    input_img = np.transpose(input_img,(1,2,0))\n",
    "    \n",
    "    if ori_return:\n",
    "        return input_img, img\n",
    "    else:\n",
    "        return input_img"
   ]
  },
  {
   "cell_type": "code",
   "execution_count": null,
   "id": "b386da0f-6490-4eb8-a6a0-c4e4dfd7bc9b",
   "metadata": {},
   "outputs": [],
   "source": [
    "# detection model load\n",
    "detection_name = \"scrfd\"\n",
    "detection_path = \"scrfd_10g_bnkps.onnx\"\n",
    "\n",
    "# Set parameters\n",
    "detection_thresh = 0.5\n",
    "detection_height_min=0 \n",
    "\n",
    "# if load multiple trt, load_multi=True, default False\n",
    "detection_model = get_detection_model(detection_name,detection_path,load_multi=False)"
   ]
  },
  {
   "cell_type": "code",
   "execution_count": null,
   "id": "20a8f523-d52c-497b-a708-a457e8e11fec",
   "metadata": {},
   "outputs": [],
   "source": [
    "# model load \n",
    "model_path = \"./pretrained/anti-spoof-mn3.onnx\"\n",
    "model = load_onnx.Onnx_session(model_path,input_mean=0.0, input_std=1.0,output_sort=True)\n",
    "# input (1,3,128,128)\n",
    "# output (1,2)\n",
    "\n",
    "# result label\n",
    "pred_dict={0:'real',1:'fake'}"
   ]
  },
  {
   "cell_type": "code",
   "execution_count": null,
   "id": "a58ec387-1e4a-465f-81ea-d634bae6cc44",
   "metadata": {},
   "outputs": [],
   "source": [
    "# image param\n",
    "mean=[0.5931, 0.4690, 0.4229]\n",
    "std=[0.2471, 0.2214, 0.2157]\n",
    "resize=128"
   ]
  },
  {
   "cell_type": "code",
   "execution_count": null,
   "id": "2c60e6db-b8ec-4db4-bd36-e3a4fdfc64cb",
   "metadata": {},
   "outputs": [],
   "source": [
    "img_path = \"~\""
   ]
  },
  {
   "cell_type": "code",
   "execution_count": null,
   "id": "f0ab70f6-a466-4cd5-85de-0ee382dc13bf",
   "metadata": {},
   "outputs": [],
   "source": [
    "img = cv2.cvtColor(cv2.imread(img_path),cv2.COLOR_BGR2RGB)"
   ]
  },
  {
   "cell_type": "code",
   "execution_count": null,
   "id": "5e82b661-6096-420a-bd00-597d62106749",
   "metadata": {},
   "outputs": [],
   "source": [
    "# detection\n",
    "faces = get_detection(detection_name,detection_model,img,thresh=detection_thresh,height_min=detection_height_min,input_size=(640,640))\n",
    "\n",
    "if len(faces)==1:\n",
    "    face = faces[0]\n",
    "elif len(faces)<1:\n",
    "    print(\"not detected..\")\n",
    "else:\n",
    "    for face in faces:\n",
    "        if face.max_flag:\n",
    "            break\n",
    "            \n",
    "bbox = face['bbox'].astype(np.int32)"
   ]
  },
  {
   "cell_type": "code",
   "execution_count": null,
   "id": "b0d7b24d-bac1-4eb1-8a57-f5da97e86093",
   "metadata": {},
   "outputs": [],
   "source": [
    "# input\n",
    "input_img = read_image(path,bbox,mean,std,resize=resize,prefix=prefix)"
   ]
  },
  {
   "cell_type": "code",
   "execution_count": null,
   "id": "1d57ed4a-db38-4101-bbbd-04dfb0bdcfc5",
   "metadata": {},
   "outputs": [],
   "source": [
    "# run\n",
    "out = model(input_img)[0][0] # prob (real,fake)\n",
    "pred_idx = np.argmax(out)"
   ]
  },
  {
   "cell_type": "code",
   "execution_count": null,
   "id": "a840be8a-808c-41df-b3b4-b5e3c8c0f4a6",
   "metadata": {},
   "outputs": [],
   "source": [
    "print(out) # real, fake\n",
    "print(\"gt: {} / pred: {}\".format(label,pred_dict[pred_idx]))"
   ]
  },
  {
   "cell_type": "code",
   "execution_count": null,
   "id": "bf2c9c48-c3a9-4749-a27c-d69a256c66a7",
   "metadata": {},
   "outputs": [],
   "source": [
    "plt.imshow(img)"
   ]
  }
 ],
 "metadata": {
  "kernelspec": {
   "display_name": "Python 3 (ipykernel)",
   "language": "python",
   "name": "python3"
  },
  "language_info": {
   "codemirror_mode": {
    "name": "ipython",
    "version": 3
   },
   "file_extension": ".py",
   "mimetype": "text/x-python",
   "name": "python",
   "nbconvert_exporter": "python",
   "pygments_lexer": "ipython3",
   "version": "3.8.10"
  }
 },
 "nbformat": 4,
 "nbformat_minor": 5
}
