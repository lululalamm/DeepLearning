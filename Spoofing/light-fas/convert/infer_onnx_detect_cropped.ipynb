{
 "cells": [
  {
   "cell_type": "code",
   "execution_count": null,
   "id": "3ed52911-c372-48f3-918e-074c37332579",
   "metadata": {},
   "outputs": [],
   "source": [
    "import os\n",
    "import glob\n",
    "import numpy as np\n",
    "from PIL import Image\n",
    "import cv2\n",
    "import matplotlib.pyplot as plt\n",
    "import torch\n",
    "import h5py\n",
    "import random\n",
    "import pandas as pd\n",
    "\n",
    "from totalface_cpu.model_zoo.model_common import load_onnx"
   ]
  },
  {
   "cell_type": "code",
   "execution_count": null,
   "id": "cbb08e99-280b-4b80-8ac3-4a0be8b3963a",
   "metadata": {},
   "outputs": [],
   "source": [
    "def normalization(rgb_img,mean_list=[0.485, 0.456, 0.406],std_list=[0.229, 0.224, 0.225]):\n",
    "    MEAN = 255 * np.array(mean_list)\n",
    "    STD = 255 * np.array(std_list)\n",
    "    rgb_img = rgb_img.transpose(-1, 0, 1)\n",
    "    norm_img = (rgb_img - MEAN[:, None, None]) / STD[:, None, None]\n",
    "    \n",
    "    return norm_img"
   ]
  },
  {
   "cell_type": "code",
   "execution_count": null,
   "id": "34bd1faf-cf87-4e87-8f1f-2147c9e148f3",
   "metadata": {},
   "outputs": [],
   "source": [
    "def read_image(path,mean,std,resize=128,prefix='',ori_return=False):\n",
    "    img = cv2.imread(prefix+path)\n",
    "    img = cv2.cvtColor(img, cv2.COLOR_BGR2RGB)\n",
    "\n",
    "    cropped = img\n",
    "\n",
    "    input_img = cv2.resize(cropped,(resize,resize),interpolation=cv2.INTER_CUBIC)\n",
    "    input_img = normalization(input_img,mean,std)\n",
    "    input_img = np.transpose(input_img,(1,2,0))\n",
    "    \n",
    "    if ori_return:\n",
    "        return input_img, img\n",
    "    else:\n",
    "        return input_img"
   ]
  },
  {
   "cell_type": "code",
   "execution_count": null,
   "id": "20a8f523-d52c-497b-a708-a457e8e11fec",
   "metadata": {},
   "outputs": [],
   "source": [
    "# model load \n",
    "model_path = \"./pretrained/anti-spoof-mn3.onnx\"\n",
    "model = load_onnx.Onnx_session(model_path,input_mean=0.0, input_std=1.0,output_sort=True)\n",
    "# input (1,3,128,128)\n",
    "# output (1,2)\n",
    "\n",
    "# result label\n",
    "pred_dict={0:'real',1:'fake'}"
   ]
  },
  {
   "cell_type": "code",
   "execution_count": null,
   "id": "a58ec387-1e4a-465f-81ea-d634bae6cc44",
   "metadata": {},
   "outputs": [],
   "source": [
    "# image param\n",
    "mean=[0.5931, 0.4690, 0.4229]\n",
    "std=[0.2471, 0.2214, 0.2157]\n",
    "resize=128"
   ]
  },
  {
   "cell_type": "code",
   "execution_count": null,
   "id": "2c60e6db-b8ec-4db4-bd36-e3a4fdfc64cb",
   "metadata": {},
   "outputs": [],
   "source": [
    "# 1. img path set\n",
    "img_path = \"~\" # cropped path\n",
    "label = \"\""
   ]
  },
  {
   "cell_type": "code",
   "execution_count": null,
   "id": "e2c4dfe8-2695-40da-aa90-7079847dfe0c",
   "metadata": {},
   "outputs": [],
   "source": [
    "# 2. csv use\n",
    "csv_path = \"safas/csv/wild_crop_list_test.csv\"\n",
    "df = pd.read_csv(path,header=None)\n",
    "\n",
    "paths = df[0]\n",
    "ids = df[1]\n",
    "labels_str = df[2]\n",
    "indexs = range(len(paths))\n",
    "\n",
    "choice_idx = random.choice(indexs)\n",
    "\n",
    "img_path = paths[choice_idx]\n",
    "id_val = ids[choice_idx]\n",
    "label = labels_str[choice_idx]"
   ]
  },
  {
   "cell_type": "code",
   "execution_count": null,
   "id": "b0d7b24d-bac1-4eb1-8a57-f5da97e86093",
   "metadata": {},
   "outputs": [],
   "source": [
    "# input\n",
    "input_img,img = read_image(img_path,bbox,mean,std,resize=resize,prefix=prefix,ori_return=True)"
   ]
  },
  {
   "cell_type": "code",
   "execution_count": null,
   "id": "1d57ed4a-db38-4101-bbbd-04dfb0bdcfc5",
   "metadata": {},
   "outputs": [],
   "source": [
    "# run\n",
    "out = model(input_img)[0][0] # prob (real,fake)\n",
    "pred_idx = np.argmax(out)"
   ]
  },
  {
   "cell_type": "code",
   "execution_count": null,
   "id": "a840be8a-808c-41df-b3b4-b5e3c8c0f4a6",
   "metadata": {},
   "outputs": [],
   "source": [
    "print(out) # real, fake\n",
    "print(\"gt: {} / pred: {}\".format(label,pred_dict[pred_idx]))"
   ]
  },
  {
   "cell_type": "code",
   "execution_count": null,
   "id": "bf2c9c48-c3a9-4749-a27c-d69a256c66a7",
   "metadata": {},
   "outputs": [],
   "source": [
    "plt.imshow(img)"
   ]
  }
 ],
 "metadata": {
  "kernelspec": {
   "display_name": "Python 3 (ipykernel)",
   "language": "python",
   "name": "python3"
  },
  "language_info": {
   "codemirror_mode": {
    "name": "ipython",
    "version": 3
   },
   "file_extension": ".py",
   "mimetype": "text/x-python",
   "name": "python",
   "nbconvert_exporter": "python",
   "pygments_lexer": "ipython3",
   "version": "3.8.10"
  }
 },
 "nbformat": 4,
 "nbformat_minor": 5
}
