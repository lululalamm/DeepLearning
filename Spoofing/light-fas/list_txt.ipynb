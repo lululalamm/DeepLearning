{
 "cells": [
  {
   "cell_type": "code",
   "execution_count": 4,
   "id": "0d998346-331f-4778-bb1b-ff4d44a0dd07",
   "metadata": {},
   "outputs": [],
   "source": [
    "import os,glob\n",
    "import numpy as np\n",
    "import pandas as pd\n",
    "from tqdm import tqdm"
   ]
  },
  {
   "cell_type": "code",
   "execution_count": 26,
   "id": "58daad40-23b3-4212-a9c3-cb9a842718e9",
   "metadata": {},
   "outputs": [],
   "source": [
    "check_path = \"/data/shared/Face/FaceLiveness/datasets/temp/safas/crop_safas_casia_test/\"\n",
    "img_list = glob.glob(check_path+\"*.jpg\")"
   ]
  },
  {
   "cell_type": "code",
   "execution_count": 27,
   "id": "e237b422-1609-4209-9e54-59dd79c81574",
   "metadata": {},
   "outputs": [
    {
     "data": {
      "text/plain": [
       "2408"
      ]
     },
     "execution_count": 27,
     "metadata": {},
     "output_type": "execute_result"
    }
   ],
   "source": [
    "len(img_list)"
   ]
  },
  {
   "cell_type": "code",
   "execution_count": 28,
   "id": "99850ab1-56fc-47f7-a93d-b75a56d2e8eb",
   "metadata": {},
   "outputs": [
    {
     "data": {
      "text/plain": [
       "['/data/shared/Face/FaceLiveness/datasets/temp/safas/crop_safas_casia_test/16_7.avi_75_fake.jpg',\n",
       " '/data/shared/Face/FaceLiveness/datasets/temp/safas/crop_safas_casia_test/24_HR_2.avi_75_fake.jpg',\n",
       " '/data/shared/Face/FaceLiveness/datasets/temp/safas/crop_safas_casia_test/28_1.avi_175_real.jpg',\n",
       " '/data/shared/Face/FaceLiveness/datasets/temp/safas/crop_safas_casia_test/23_HR_2.avi_225_fake.jpg',\n",
       " '/data/shared/Face/FaceLiveness/datasets/temp/safas/crop_safas_casia_test/20_HR_2.avi_250_fake.jpg',\n",
       " '/data/shared/Face/FaceLiveness/datasets/temp/safas/crop_safas_casia_test/20_4.avi_25_fake.jpg',\n",
       " '/data/shared/Face/FaceLiveness/datasets/temp/safas/crop_safas_casia_test/30_7.avi_200_fake.jpg',\n",
       " '/data/shared/Face/FaceLiveness/datasets/temp/safas/crop_safas_casia_test/18_7.avi_225_fake.jpg',\n",
       " '/data/shared/Face/FaceLiveness/datasets/temp/safas/crop_safas_casia_test/27_HR_2.avi_150_fake.jpg',\n",
       " '/data/shared/Face/FaceLiveness/datasets/temp/safas/crop_safas_casia_test/22_4.avi_150_fake.jpg']"
      ]
     },
     "execution_count": 28,
     "metadata": {},
     "output_type": "execute_result"
    }
   ],
   "source": [
    "img_list[:10]"
   ]
  },
  {
   "cell_type": "code",
   "execution_count": 6,
   "id": "a155e9e2-f2f7-4c8f-a68d-b72f4e8f5e80",
   "metadata": {},
   "outputs": [],
   "source": [
    "# label = fake 0 / real 1"
   ]
  },
  {
   "cell_type": "code",
   "execution_count": 7,
   "id": "2ae47cc0-0673-4074-a544-7ae0a33aaa33",
   "metadata": {},
   "outputs": [],
   "source": [
    "# wild\n",
    "# ex : '/data/shared/Face/FaceLiveness/datasets/temp/safas/crop_safas_wild_train/0_2693_real.jpg'"
   ]
  },
  {
   "cell_type": "code",
   "execution_count": 15,
   "id": "aebf9e03-6ead-405c-af06-24932d5355f3",
   "metadata": {},
   "outputs": [],
   "source": [
    "tv = ['train','val']\n",
    "save_tv = ['train','test']\n",
    "base = \"/data/shared/Face/FaceLiveness/datasets/temp/safas/crop_safas_wild_{}/\""
   ]
  },
  {
   "cell_type": "code",
   "execution_count": 16,
   "id": "076c57cf-4b7c-4adb-85b7-00aa771ef224",
   "metadata": {},
   "outputs": [],
   "source": [
    "save_base = \"/data/shared/wild_crop_list_{}.csv\""
   ]
  },
  {
   "cell_type": "code",
   "execution_count": 17,
   "id": "2beba5c7-e416-411f-861e-eceeb30914f2",
   "metadata": {},
   "outputs": [
    {
     "name": "stderr",
     "output_type": "stream",
     "text": [
      "100%|██████████| 1275183/1275183 [00:18<00:00, 69105.26it/s]\n",
      "100%|██████████| 137609/137609 [00:01<00:00, 71174.08it/s]\n"
     ]
    }
   ],
   "source": [
    "for i in range(len(tv)):\n",
    "    tval = tv[i]\n",
    "    save_tval = save_tv[i]\n",
    "    img_list = glob.glob(base.format(tval)+\"*.jpg\")+glob.glob(base.format(tval)+\"*.png\")\n",
    "    \n",
    "    with open(save_base.format(save_tval),'w') as f:\n",
    "        for img_path in tqdm(img_list):\n",
    "            img_name = img_path.split(\"/\")[-1]\n",
    "            id_val = img_name.split(\"_\")[1]\n",
    "            lb_save = img_name.split(\"_\")[2].split(\".\")[0] # real or fake\n",
    "\n",
    "            id_val_new = \"wild_{}\".format(id_val)\n",
    "\n",
    "            new_line = \"{},{},{}\\n\".format(img_path,id_val_new,lb_save)\n",
    "            f.writelines(new_line)"
   ]
  },
  {
   "cell_type": "code",
   "execution_count": 21,
   "id": "99650bdd-5556-43e1-b671-ed6d8f1371dc",
   "metadata": {},
   "outputs": [],
   "source": [
    "# celebA\n",
    "# ex : '/data/shared/Face/FaceLiveness/datasets/temp/safas/crop_safas_celebA_test/10001_real_514888.png.jpg'"
   ]
  },
  {
   "cell_type": "code",
   "execution_count": 22,
   "id": "0e5a3140-86e2-4b66-853e-aec380e4dde1",
   "metadata": {},
   "outputs": [],
   "source": [
    "tv = ['train','test']\n",
    "base = \"/data/shared/Face/FaceLiveness/datasets/temp/safas/crop_safas_celebA_{}/\""
   ]
  },
  {
   "cell_type": "code",
   "execution_count": 23,
   "id": "e4627c62-940d-4b68-a493-6e2f2d0bbe0d",
   "metadata": {},
   "outputs": [],
   "source": [
    "save_base = \"/data/shared/celebA_crop_list_{}.csv\""
   ]
  },
  {
   "cell_type": "code",
   "execution_count": 25,
   "id": "a8cd26d1-8a98-484e-a9b8-644c57bb0736",
   "metadata": {},
   "outputs": [
    {
     "name": "stderr",
     "output_type": "stream",
     "text": [
      "100%|██████████| 477397/477397 [00:06<00:00, 70189.71it/s]\n",
      "100%|██████████| 62263/62263 [00:00<00:00, 68180.90it/s]\n"
     ]
    }
   ],
   "source": [
    "for i in range(len(tv)):\n",
    "    tval = tv[i]\n",
    "    img_list = glob.glob(base.format(tval)+\"*.jpg\")+glob.glob(base.format(tval)+\"*.png\")\n",
    "    \n",
    "    with open(save_base.format(tval),'w') as f:\n",
    "        for img_path in tqdm(img_list):\n",
    "            img_name = img_path.split(\"/\")[-1]\n",
    "            id_val = img_name.split(\"_\")[0]\n",
    "            lb_save = img_name.split(\"_\")[1] # real or fake\n",
    "\n",
    "            id_val_new = \"celebA_{}\".format(id_val)\n",
    "\n",
    "            new_line = \"{},{},{}\\n\".format(img_path,id_val_new,lb_save)\n",
    "            f.writelines(new_line)"
   ]
  },
  {
   "cell_type": "code",
   "execution_count": null,
   "id": "460eaccd-a1dc-48f7-aaf8-6fa962ac0977",
   "metadata": {},
   "outputs": [],
   "source": []
  },
  {
   "cell_type": "code",
   "execution_count": null,
   "id": "6b6de1f7-b6fe-4cf3-ba18-b915957bca74",
   "metadata": {},
   "outputs": [],
   "source": [
    "# casia\n",
    "# ex : '/data/shared/Face/FaceLiveness/datasets/temp/safas/crop_safas_casia_test/16_7.avi_75_fake.jpg'"
   ]
  },
  {
   "cell_type": "code",
   "execution_count": 29,
   "id": "350b42d1-8a83-432a-b603-e07b127fa95a",
   "metadata": {},
   "outputs": [],
   "source": [
    "tv = ['train','test']\n",
    "base = \"/data/shared/Face/FaceLiveness/datasets/temp/safas/crop_safas_casia_{}/\""
   ]
  },
  {
   "cell_type": "code",
   "execution_count": 30,
   "id": "e6ef6248-9b8b-4d54-84b4-420d54677d56",
   "metadata": {},
   "outputs": [],
   "source": [
    "save_base = \"/data/shared/casia_crop_list_{}.csv\""
   ]
  },
  {
   "cell_type": "code",
   "execution_count": 31,
   "id": "1a37e5cf-4148-496a-bfe0-14590a1b0759",
   "metadata": {},
   "outputs": [
    {
     "name": "stderr",
     "output_type": "stream",
     "text": [
      "100%|██████████| 1655/1655 [00:00<00:00, 61789.10it/s]\n",
      "100%|██████████| 2408/2408 [00:00<00:00, 59269.88it/s]\n"
     ]
    }
   ],
   "source": [
    "for i in range(len(tv)):\n",
    "    tval = tv[i]\n",
    "    img_list = glob.glob(base.format(tval)+\"*.jpg\")+glob.glob(base.format(tval)+\"*.png\")\n",
    "    \n",
    "    with open(save_base.format(tval),'w') as f:\n",
    "        for img_path in tqdm(img_list):\n",
    "            img_name = img_path.split(\"/\")[-1]\n",
    "            id_val = img_name.split(\".avi\")[0]\n",
    "            if \"fake\" in img_path:\n",
    "                lb_save = 'fake'\n",
    "            else:\n",
    "                lb_save = 'real'\n",
    "\n",
    "            id_val_new = \"casia_{}\".format(id_val)\n",
    "\n",
    "            new_line = \"{},{},{}\\n\".format(img_path,id_val_new,lb_save)\n",
    "            f.writelines(new_line)"
   ]
  },
  {
   "cell_type": "code",
   "execution_count": null,
   "id": "6f8ad4ec-05dd-420d-9a55-fedd87b90e16",
   "metadata": {},
   "outputs": [],
   "source": []
  },
  {
   "cell_type": "code",
   "execution_count": null,
   "id": "a4ce83a8-a699-4691-b04f-51be14b2a8eb",
   "metadata": {},
   "outputs": [],
   "source": []
  }
 ],
 "metadata": {
  "kernelspec": {
   "display_name": "Python 3 (ipykernel)",
   "language": "python",
   "name": "python3"
  },
  "language_info": {
   "codemirror_mode": {
    "name": "ipython",
    "version": 3
   },
   "file_extension": ".py",
   "mimetype": "text/x-python",
   "name": "python",
   "nbconvert_exporter": "python",
   "pygments_lexer": "ipython3",
   "version": "3.8.10"
  }
 },
 "nbformat": 4,
 "nbformat_minor": 5
}
