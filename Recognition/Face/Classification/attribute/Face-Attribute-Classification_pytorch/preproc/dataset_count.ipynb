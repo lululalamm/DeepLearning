{
 "cells": [
  {
   "cell_type": "code",
   "execution_count": 1,
   "id": "8ff7c9b7-2b68-48b5-95d9-8acc091655b1",
   "metadata": {},
   "outputs": [],
   "source": [
    "import os\n",
    "import numpy as np\n",
    "import matplotlib.pyplot as plt\n",
    "import h5py"
   ]
  },
  {
   "cell_type": "code",
   "execution_count": 4,
   "id": "22cc271e-6a80-4ff1-817d-cffc8db59d40",
   "metadata": {},
   "outputs": [],
   "source": [
    "h5_format = \"celebA/h5/230720/celeba_224_{}.h5\""
   ]
  },
  {
   "cell_type": "code",
   "execution_count": 23,
   "id": "444aeed0-a2b1-49cc-9204-9b933ed52dcf",
   "metadata": {},
   "outputs": [
    {
     "name": "stdout",
     "output_type": "stream",
     "text": [
      "train\n",
      "Beard : 27139\n",
      "Smiling : 78824\n",
      "Eyeglasses : 10598\n",
      "Wearing_Lipstick : 77466\n",
      "Wearing_Hat : 7880\n",
      "Wearing_Earrings : 30902\n",
      "Wearing_Necklace : 20098\n",
      "Wearing_Necktie : 11903\n",
      "\n",
      "val\n",
      "Beard : 3316\n",
      "Smiling : 9811\n",
      "Eyeglasses : 1299\n",
      "Wearing_Lipstick : 9519\n",
      "Wearing_Hat : 994\n",
      "Wearing_Earrings : 3847\n",
      "Wearing_Necklace : 2507\n",
      "Wearing_Necktie : 1444\n",
      "\n",
      "test\n",
      "Beard : 2942\n",
      "Smiling : 8862\n",
      "Eyeglasses : 1200\n",
      "Wearing_Lipstick : 8704\n",
      "Wearing_Hat : 895\n",
      "Wearing_Earrings : 3500\n",
      "Wearing_Necklace : 2297\n",
      "Wearing_Necktie : 1302\n",
      "\n"
     ]
    }
   ],
   "source": [
    "for tv in ['train','val','test']:\n",
    "    hf_path = h5_format.format(tv)\n",
    "    \n",
    "    hf = h5py.File(hf_path,'r')\n",
    "    \n",
    "    label_list=[lb.decode('utf-8') for lb in hf['label_list']]\n",
    "\n",
    "    images = hf['images']\n",
    "    labels = hf['labels']\n",
    "\n",
    "    count_dict={}\n",
    "    for idx in range(len(label_list)):\n",
    "        count_dict[idx]=0\n",
    "\n",
    "    for lb_list in labels:\n",
    "        for i in range(len(lb_list)):\n",
    "            if lb_list[i]:\n",
    "                count_dict[i]+=1\n",
    "\n",
    "    print(tv)\n",
    "    for idx in count_dict:\n",
    "        print(label_list[idx],\":\",count_dict[idx])\n",
    "    print()"
   ]
  },
  {
   "cell_type": "code",
   "execution_count": null,
   "id": "51085b7d-4d2d-4dea-b665-629fd32136a8",
   "metadata": {},
   "outputs": [],
   "source": []
  }
 ],
 "metadata": {
  "kernelspec": {
   "display_name": "Python 3 (ipykernel)",
   "language": "python",
   "name": "python3"
  },
  "language_info": {
   "codemirror_mode": {
    "name": "ipython",
    "version": 3
   },
   "file_extension": ".py",
   "mimetype": "text/x-python",
   "name": "python",
   "nbconvert_exporter": "python",
   "pygments_lexer": "ipython3",
   "version": "3.8.10"
  }
 },
 "nbformat": 4,
 "nbformat_minor": 5
}
