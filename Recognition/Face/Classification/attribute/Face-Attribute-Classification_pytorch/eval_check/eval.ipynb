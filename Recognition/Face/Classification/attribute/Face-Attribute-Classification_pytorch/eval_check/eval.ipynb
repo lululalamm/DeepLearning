{
 "cells": [
  {
   "cell_type": "code",
   "execution_count": 1,
   "id": "bdfa111b-95e8-4da8-944a-de6b9bf430b2",
   "metadata": {},
   "outputs": [],
   "source": [
    "import os\n",
    "import numpy as np\n",
    "from tqdm import tqdm\n",
    "import h5py\n",
    "import torch\n",
    "from torcheval.metrics import BinaryAccuracy,AUC"
   ]
  },
  {
   "cell_type": "code",
   "execution_count": 2,
   "id": "a84eafb8-181b-4aa9-8021-97dc34d1cc63",
   "metadata": {},
   "outputs": [],
   "source": [
    "from collections import OrderedDict"
   ]
  },
  {
   "cell_type": "code",
   "execution_count": 3,
   "id": "65a91cb9-1ee4-47d2-9974-c467b7349522",
   "metadata": {},
   "outputs": [],
   "source": [
    "os.environ[\"CUDA_VISIBLE_DEVICES\"]=\"1\""
   ]
  },
  {
   "cell_type": "code",
   "execution_count": 4,
   "id": "239d98f1-8552-46f3-89d8-19a4e91803b7",
   "metadata": {},
   "outputs": [],
   "source": [
    "from src.evaluate import Precision,Recall,F1_score\n",
    "from src.model import build_model\n",
    "from src.get_config import get_config"
   ]
  },
  {
   "cell_type": "code",
   "execution_count": 5,
   "id": "0a6914a6-14ac-40f6-8085-670535a88125",
   "metadata": {},
   "outputs": [],
   "source": [
    "def normalization(rgb_img,mean_list=[0.485, 0.456, 0.406],std_list=[0.229, 0.224, 0.225]):\n",
    "    MEAN = 255 * np.array(mean_list)\n",
    "    STD = 255 * np.array(std_list)\n",
    "    rgb_img = rgb_img.transpose(-1, 0, 1)\n",
    "    norm_img = (rgb_img - MEAN[:, None, None]) / STD[:, None, None]\n",
    "    \n",
    "    return norm_img"
   ]
  },
  {
   "cell_type": "code",
   "execution_count": 6,
   "id": "6ab1af54-6cc3-44c6-bf97-cf729d4d9a62",
   "metadata": {},
   "outputs": [],
   "source": [
    "def eval(outs,gts):\n",
    "    \n",
    "    precision_m = Precision()\n",
    "    recall_m = Recall()\n",
    "    bAcc_m = BinaryAccuracy()\n",
    "    auc_m = AUC()\n",
    "\n",
    "    f1_score = F1_score(outs.to(torch.float32),gts.to(torch.float32))\n",
    "    precision = precision_m(outs.to(torch.float32),gts.to(torch.float32))\n",
    "    recall = recall_m(outs.to(torch.float32),gts.to(torch.float32))\n",
    "\n",
    "    acc=[]\n",
    "    auc=[]\n",
    "    \n",
    "    for i in range(len(outs)):\n",
    "        out = outs[i]\n",
    "        gt = gts[i]\n",
    "        \n",
    "        # Binary Accuracy\n",
    "        bAcc_m.update(out, gt)\n",
    "        ba = bAcc_m.compute()\n",
    "        acc.append(ba.item())\n",
    "        \n",
    "        # AUC\n",
    "        auc_m.update(out, gt)\n",
    "        auc_val = auc_m.compute()\n",
    "        auc.append(auc_val.item())\n",
    "        \n",
    "    acc = np.array(acc)\n",
    "    acc = np.mean(acc)\n",
    "    \n",
    "    auc = np.array(auc)\n",
    "    auc = np.mean(auc)\n",
    "    \n",
    "    return acc, f1_score.item(), precision.item(), recall.item(), auc   "
   ]
  },
  {
   "cell_type": "code",
   "execution_count": 7,
   "id": "8cfcc164-c595-43b4-be0f-dc83c23b13d8",
   "metadata": {},
   "outputs": [],
   "source": [
    "# load config\n",
    "cfg_path = \"configs/efficientNet_B0_celebA.py\"\n",
    "cfg = get_config(cfg_path)"
   ]
  },
  {
   "cell_type": "code",
   "execution_count": 8,
   "id": "a16ffd5f-d058-47d6-9f84-7c0ade040262",
   "metadata": {},
   "outputs": [],
   "source": [
    "# load model\n",
    "model_path = \"./save_model_224/best_epoch28.pth\"\n",
    "\n",
    "model = build_model(cfg.network,cfg.num_classes,'',False)\n",
    "load_weight = torch.load(model_path)\n",
    "new_state_dict = OrderedDict()\n",
    "for n, v in load_weight.items():\n",
    "    name = n.replace(\"module.\",\"\") \n",
    "    new_state_dict[name] = v\n",
    "        \n",
    "model.load_state_dict(new_state_dict)\n",
    "_ = model.eval()"
   ]
  },
  {
   "cell_type": "code",
   "execution_count": 9,
   "id": "550ba670-90e1-41d2-94d0-f46f46324b7c",
   "metadata": {},
   "outputs": [
    {
     "name": "stdout",
     "output_type": "stream",
     "text": [
      "['Beard', 'Smiling', 'Eyeglasses', 'Wearing_Lipstick', 'Wearing_Hat', 'Wearing_Earrings', 'Wearing_Necklace', 'Wearing_Necktie']\n"
     ]
    }
   ],
   "source": [
    "# dataset\n",
    "hf_path = \"celebA/h5/230720/celeba_224_test.h5\"\n",
    "\n",
    "hf = h5py.File(hf_path,'r')\n",
    "\n",
    "label_list = [lb.decode('utf-8') for lb in hf['label_list']]\n",
    "print(label_list)\n",
    "\n",
    "images = hf['images']\n",
    "labels = hf['labels']"
   ]
  },
  {
   "cell_type": "code",
   "execution_count": null,
   "id": "319d7618-84c2-4fca-97f2-bdb4448d2f02",
   "metadata": {
    "collapsed": true,
    "jupyter": {
     "outputs_hidden": true
    },
    "tags": []
   },
   "outputs": [],
   "source": [
    "outs=[]\n",
    "gts=[]\n",
    "\n",
    "for i in tqdm(range(len(images))):\n",
    "    gts.append(labels[i])\n",
    "    input_img = normalization(images[i])\n",
    "    input_img = torch.tensor(np.expand_dims(input_img,0).astype(np.float32))\n",
    "    out = model(input_img)\n",
    "    out = out[0].detach().numpy()\n",
    "    outs.append(out)\n",
    "\n",
    "outs = torch.tensor(outs)\n",
    "gts = torch.tensor(gts)"
   ]
  },
  {
   "cell_type": "code",
   "execution_count": 41,
   "id": "8adf942b-972f-487c-b4a0-da57e058cba7",
   "metadata": {},
   "outputs": [
    {
     "data": {
      "text/plain": [
       "torch.Size([16568, 8])"
      ]
     },
     "execution_count": 41,
     "metadata": {},
     "output_type": "execute_result"
    }
   ],
   "source": [
    "gts.shape"
   ]
  },
  {
   "cell_type": "code",
   "execution_count": 43,
   "id": "00a31cf1-ce92-4709-b15a-2fa8534b1e3e",
   "metadata": {},
   "outputs": [],
   "source": [
    "acc, f1_score, precision, recall, auc = eval(outs,gts)"
   ]
  },
  {
   "cell_type": "code",
   "execution_count": 46,
   "id": "9407035d-92a3-4c4d-9cb6-2a3c09f560f7",
   "metadata": {},
   "outputs": [
    {
     "name": "stdout",
     "output_type": "stream",
     "text": [
      "Acc: 61.171 %\n",
      "F1-score: 0.34590545296669006\n",
      "Precision: 0.27919095754623413\n",
      "Recall: 0.45451486110687256\n",
      "AUC: 0.024653050414444398\n"
     ]
    }
   ],
   "source": [
    "print(\"Acc:\",round(acc*100,3),\"%\")\n",
    "print(\"F1-score:\",f1_score)\n",
    "print(\"Precision:\",precision)\n",
    "print(\"Recall:\",recall)\n",
    "print(\"AUC:\",auc)"
   ]
  },
  {
   "cell_type": "code",
   "execution_count": null,
   "id": "dfba7b99-0ea0-458e-8fb0-47dac084252e",
   "metadata": {},
   "outputs": [],
   "source": []
  }
 ],
 "metadata": {
  "kernelspec": {
   "display_name": "Python 3 (ipykernel)",
   "language": "python",
   "name": "python3"
  },
  "language_info": {
   "codemirror_mode": {
    "name": "ipython",
    "version": 3
   },
   "file_extension": ".py",
   "mimetype": "text/x-python",
   "name": "python",
   "nbconvert_exporter": "python",
   "pygments_lexer": "ipython3",
   "version": "3.8.10"
  }
 },
 "nbformat": 4,
 "nbformat_minor": 5
}
