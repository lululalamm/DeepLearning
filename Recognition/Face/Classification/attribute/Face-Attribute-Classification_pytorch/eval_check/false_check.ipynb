{
 "cells": [
  {
   "cell_type": "code",
   "execution_count": 58,
   "id": "3a6ce407-e160-476f-af4d-601ec218e5b4",
   "metadata": {},
   "outputs": [],
   "source": [
    "import os\n",
    "import numpy as np\n",
    "import cv2\n",
    "import h5py\n",
    "from tqdm import tqdm\n",
    "import matplotlib.pyplot as plt"
   ]
  },
  {
   "cell_type": "code",
   "execution_count": 59,
   "id": "2c1b6502-7099-4eb1-9ffd-37d136ea4c8f",
   "metadata": {},
   "outputs": [],
   "source": [
    "hf_path = \"celebA/h5/230720/celeba_224_test.h5\"\n",
    "hf_path = \"celebA/h5/230720/celeba_add_224_test.h5\"\n",
    "hf = h5py.File(hf_path,'r')\n",
    "images = hf['images']"
   ]
  },
  {
   "cell_type": "code",
   "execution_count": 60,
   "id": "b736b7e8-7959-43ac-9339-db7763787252",
   "metadata": {},
   "outputs": [],
   "source": [
    "npath = \"./save_model_224/false_dict.npy\"\n",
    "npath = \"./save_model_add224/false_dict.npy\"\n",
    "false_dict = np.load(npath,allow_pickle=True)\n",
    "false_dict = false_dict.item()"
   ]
  },
  {
   "cell_type": "code",
   "execution_count": 61,
   "id": "d4fc1eda-c647-4cb7-9a78-e2f6c8a87fed",
   "metadata": {},
   "outputs": [
    {
     "data": {
      "text/plain": [
       "dict_keys(['Beard', 'Smiling', 'Eyeglasses', 'Wearing_Lipstick', 'Wearing_Hat', 'Wearing_Earrings', 'Wearing_Necklace', 'Wearing_Necktie'])"
      ]
     },
     "execution_count": 61,
     "metadata": {},
     "output_type": "execute_result"
    }
   ],
   "source": [
    "false_dict.keys()"
   ]
  },
  {
   "cell_type": "code",
   "execution_count": 62,
   "id": "d2e70cd4-3d09-4f8a-9343-f2e0b2f8e5d6",
   "metadata": {},
   "outputs": [
    {
     "name": "stdout",
     "output_type": "stream",
     "text": [
      "Beard : 1322\n",
      "Smiling : 3185\n",
      "Eyeglasses : 354\n",
      "Wearing_Lipstick : 1449\n",
      "Wearing_Hat : 259\n",
      "Wearing_Earrings : 2764\n",
      "Wearing_Necklace : 2248\n",
      "Wearing_Necktie : 641\n",
      "12222\n"
     ]
    }
   ],
   "source": [
    "c=0\n",
    "\n",
    "for k in false_dict:\n",
    "    print(k,\":\",len(false_dict[k]))\n",
    "    c+=len(false_dict[k])\n",
    "print(c)"
   ]
  },
  {
   "cell_type": "code",
   "execution_count": 63,
   "id": "dc38ce66-bfca-4b28-9ac9-fc0cd15b2c4a",
   "metadata": {},
   "outputs": [],
   "source": [
    "false_save = os.path.join(os.path.dirname(npath),'false_images')\n",
    "if not os.path.exists(false_save):\n",
    "    os.mkdir(false_save)\n",
    "for k in false_dict:\n",
    "    false_sub = os.path.join(false_save,k,'gtTrue')\n",
    "    false_sub2 = os.path.join(false_save,k,'gtFalse')\n",
    "    if not os.path.exists(false_sub):\n",
    "        os.makedirs(false_sub)\n",
    "    if not os.path.exists(false_sub2):\n",
    "        os.makedirs(false_sub2)"
   ]
  },
  {
   "cell_type": "code",
   "execution_count": 64,
   "id": "6ddfb15e-e051-46a2-8b32-ba580b512f12",
   "metadata": {},
   "outputs": [
    {
     "name": "stdout",
     "output_type": "stream",
     "text": [
      "Start: Beard\n"
     ]
    },
    {
     "name": "stderr",
     "output_type": "stream",
     "text": [
      "100%|██████████| 1322/1322 [00:01<00:00, 1261.08it/s]\n"
     ]
    },
    {
     "name": "stdout",
     "output_type": "stream",
     "text": [
      "Start: Smiling\n"
     ]
    },
    {
     "name": "stderr",
     "output_type": "stream",
     "text": [
      "100%|██████████| 3185/3185 [00:02<00:00, 1306.70it/s]\n"
     ]
    },
    {
     "name": "stdout",
     "output_type": "stream",
     "text": [
      "Start: Eyeglasses\n"
     ]
    },
    {
     "name": "stderr",
     "output_type": "stream",
     "text": [
      "100%|██████████| 354/354 [00:00<00:00, 1349.31it/s]\n"
     ]
    },
    {
     "name": "stdout",
     "output_type": "stream",
     "text": [
      "Start: Wearing_Lipstick\n"
     ]
    },
    {
     "name": "stderr",
     "output_type": "stream",
     "text": [
      "100%|██████████| 1449/1449 [00:01<00:00, 1282.97it/s]\n"
     ]
    },
    {
     "name": "stdout",
     "output_type": "stream",
     "text": [
      "Start: Wearing_Hat\n"
     ]
    },
    {
     "name": "stderr",
     "output_type": "stream",
     "text": [
      "100%|██████████| 259/259 [00:00<00:00, 1188.43it/s]\n"
     ]
    },
    {
     "name": "stdout",
     "output_type": "stream",
     "text": [
      "Start: Wearing_Earrings\n"
     ]
    },
    {
     "name": "stderr",
     "output_type": "stream",
     "text": [
      "100%|██████████| 2764/2764 [00:02<00:00, 1260.18it/s]\n"
     ]
    },
    {
     "name": "stdout",
     "output_type": "stream",
     "text": [
      "Start: Wearing_Necklace\n"
     ]
    },
    {
     "name": "stderr",
     "output_type": "stream",
     "text": [
      "100%|██████████| 2248/2248 [00:01<00:00, 1224.74it/s]\n"
     ]
    },
    {
     "name": "stdout",
     "output_type": "stream",
     "text": [
      "Start: Wearing_Necktie\n"
     ]
    },
    {
     "name": "stderr",
     "output_type": "stream",
     "text": [
      "100%|██████████| 641/641 [00:00<00:00, 1297.51it/s]\n"
     ]
    }
   ],
   "source": [
    "for k in false_dict:\n",
    "    print(\"Start:\",k)\n",
    "    for vals in tqdm(false_dict[k]):\n",
    "        out = vals[0]\n",
    "        out_r = round(out,3)\n",
    "        image = images[vals[1]]\n",
    "        bgr = cv2.cvtColor(image,cv2.COLOR_RGB2BGR)\n",
    "        \n",
    "        if out_r<0.5: # pred False, gt True\n",
    "            save_path = os.path.join(false_save,k,'gtTrue',\"{}_pred-{}.jpg\".format(vals[1],out_r))\n",
    "        else:\n",
    "            save_path = os.path.join(false_save,k,'gtFalse',\"{}_pred-{}.jpg\".format(vals[1],out_r))\n",
    "        cv2.imwrite(save_path,bgr)                 "
   ]
  },
  {
   "cell_type": "code",
   "execution_count": null,
   "id": "52b316c0-fd2c-4fe0-8c42-af9d577fb6d5",
   "metadata": {},
   "outputs": [],
   "source": []
  }
 ],
 "metadata": {
  "kernelspec": {
   "display_name": "Python 3 (ipykernel)",
   "language": "python",
   "name": "python3"
  },
  "language_info": {
   "codemirror_mode": {
    "name": "ipython",
    "version": 3
   },
   "file_extension": ".py",
   "mimetype": "text/x-python",
   "name": "python",
   "nbconvert_exporter": "python",
   "pygments_lexer": "ipython3",
   "version": "3.8.10"
  }
 },
 "nbformat": 4,
 "nbformat_minor": 5
}
